{
  "cells": [
    {
      "cell_type": "code",
      "execution_count": null,
      "metadata": {
        "colab": {
          "base_uri": "https://localhost:8080/"
        },
        "id": "5c6b4c0e-f36d-4018-b645-85e7bfc3cc6e",
        "outputId": "b96baa9b-232a-4bf1-9a4e-3853f72bc2b5"
      },
      "outputs": [
        {
          "output_type": "stream",
          "name": "stdout",
          "text": [
            "[nltk_data] Downloading package punkt to /root/nltk_data...\n",
            "[nltk_data]   Unzipping tokenizers/punkt.zip.\n"
          ]
        }
      ],
      "source": [
        "import os\n",
        "import sys\n",
        "import random\n",
        "import argparse\n",
        "import json\n",
        "import nltk\n",
        "nltk.download('punkt')\n",
        "import numpy as np\n",
        "from tqdm import tqdm\n",
        "from keras.layers.embeddings import Embedding\n",
        "from keras.layers import Dense, Input, Dropout, SimpleRNN, Activation, LSTM, Bidirectional, GRU\n",
        "from keras.models import Model\n",
        "from keras.preprocessing import sequence\n",
        "from tensorflow.keras.layers import RepeatVector, Dense, Activation, Lambda,Concatenate,Dot\n",
        "from tensorflow.keras.optimizers import Adam\n",
        "import tensorflow as tf\n",
        "from collections import Counter\n",
        "import string\n",
        "import re\n",
        "import argparse\n",
        "\n",
        "random.seed(42)\n",
        "np.random.seed(42)"
      ],
      "id": "5c6b4c0e-f36d-4018-b645-85e7bfc3cc6e"
    },
    {
      "cell_type": "code",
      "execution_count": null,
      "metadata": {
        "colab": {
          "base_uri": "https://localhost:8080/",
          "height": 35
        },
        "id": "_yxkFv3uQ6s-",
        "outputId": "10451916-d417-4450-90e3-599375ec780a"
      },
      "outputs": [
        {
          "output_type": "execute_result",
          "data": {
            "text/plain": [
              "'/device:GPU:0'"
            ],
            "application/vnd.google.colaboratory.intrinsic+json": {
              "type": "string"
            }
          },
          "metadata": {},
          "execution_count": 2
        }
      ],
      "source": [
        "tf.test.gpu_device_name()"
      ],
      "id": "_yxkFv3uQ6s-"
    },
    {
      "cell_type": "code",
      "execution_count": null,
      "metadata": {
        "colab": {
          "base_uri": "https://localhost:8080/"
        },
        "id": "uNwYsWY8HJoW",
        "outputId": "34f7ef51-5349-4756-e35a-8ceb87c96e68"
      },
      "outputs": [
        {
          "output_type": "stream",
          "name": "stdout",
          "text": [
            "Mounted at /content/drive\n"
          ]
        }
      ],
      "source": [
        "from google.colab import drive\n",
        "drive.mount('/content/drive')"
      ],
      "id": "uNwYsWY8HJoW"
    },
    {
      "cell_type": "code",
      "execution_count": null,
      "metadata": {
        "id": "4a28c002-8368-4d89-8002-eb487ad35739"
      },
      "outputs": [],
      "source": [
        "f = open('./drive/MyDrive/data/train-v2.0.json','r')\n",
        "data = json.load(f)"
      ],
      "id": "4a28c002-8368-4d89-8002-eb487ad35739"
    },
    {
      "cell_type": "code",
      "execution_count": null,
      "metadata": {
        "id": "6ed59d1a-1190-4cb5-aae5-0764858ca863"
      },
      "outputs": [],
      "source": [
        "def tokenize(sequence):\n",
        "    tokens = [token.replace(\"``\", '\"').replace(\"''\", '\"').lower() for token in nltk.word_tokenize(sequence)]\n",
        "    return tokens"
      ],
      "id": "6ed59d1a-1190-4cb5-aae5-0764858ca863"
    },
    {
      "cell_type": "code",
      "execution_count": null,
      "metadata": {
        "id": "e4c31496-8690-400b-88f1-77d25e72df0c"
      },
      "outputs": [],
      "source": [
        "def char_2_word_mapping(context,context_tokens):\n",
        "    w = ''\n",
        "    current_token_idx = 0 # current word loc\n",
        "    mapping = dict()\n",
        "\n",
        "    for char_idx, char in enumerate(context): # step through original characters\n",
        "        if char != ' ' and char != '\\n': # if it's not a space:\n",
        "            w += char # add to accumulator\n",
        "            context_token = context_tokens[current_token_idx] # current word token\n",
        "            if w == context_token: # if the accumulator now matches the current word token\n",
        "                syn_start = char_idx - len(w) + 1 # char loc of the start of this word\n",
        "                for char_loc in range(syn_start, char_idx+1):\n",
        "                    mapping[char_loc] = (w, current_token_idx) # add to mapping\n",
        "                w = '' # reset accumulator\n",
        "                current_token_idx += 1\n",
        "\n",
        "    if current_token_idx != len(context_tokens):\n",
        "        return None\n",
        "    else:\n",
        "        return mapping\n"
      ],
      "id": "e4c31496-8690-400b-88f1-77d25e72df0c"
    },
    {
      "cell_type": "markdown",
      "metadata": {
        "id": "613bc3c6-f590-4a0f-ad86-bcd952121768"
      },
      "source": [
        "## Preprocessing of Data"
      ],
      "id": "613bc3c6-f590-4a0f-ad86-bcd952121768"
    },
    {
      "cell_type": "code",
      "execution_count": null,
      "metadata": {
        "id": "bf0b7612-b7e2-48f7-83d5-7c62ffd0d952"
      },
      "outputs": [],
      "source": [
        "def preprocessing(data):\n",
        "    exm = 0\n",
        "    exmpl = []\n",
        "    max_len_context=0\n",
        "    max_len_question=0\n",
        "\n",
        "    for a_id in tqdm(range(len(data['data'])), desc=\"Preprocessing\"):\n",
        "        a_paras = data['data'][a_id]['paragraphs']\n",
        "\n",
        "        for pid in range(len(a_paras)):\n",
        "            context = a_paras[pid]['context']\n",
        "            context = context.replace(\"''\", '\" ')\n",
        "            context = context.replace(\"``\", '\" ')\n",
        "\n",
        "            context_tokens = tokenize(context)\n",
        "\n",
        "            if len(context_tokens)>250:\n",
        "                continue\n",
        "\n",
        "            context = context.lower()\n",
        "\n",
        "            qas = a_paras[pid]['qas']\n",
        "            char2wordloc = char_2_word_mapping(context, context_tokens)\n",
        "\n",
        "            if char2wordloc is None:\n",
        "                continue\n",
        "\n",
        "            if len(context_tokens)>max_len_context:\n",
        "                max_len_context = len(context_tokens)\n",
        "\n",
        "            for q in qas:\n",
        "                question = q['question']\n",
        "                question_tokens = tokenize(question)\n",
        "\n",
        "                if q['is_impossible']==True or len(question_tokens)>30 or ('why' in question_tokens) or ('how' in question_tokens):\n",
        "                    continue\n",
        "\n",
        "                ans_text = (q['answers'][0]['text']).lower()\n",
        "                a_start_char_loc = q['answers'][0]['answer_start']\n",
        "                a_end_char_loc = int(a_start_char_loc) + len(ans_text)\n",
        "                if context[int(a_start_char_loc):a_end_char_loc] != ans_text:\n",
        "                    continue\n",
        "\n",
        "                ans_start_wordloc = char2wordloc[a_start_char_loc][1]\n",
        "                ans_end_wordloc = char2wordloc[a_end_char_loc-1][1]\n",
        "                assert ans_start_wordloc <= ans_end_wordloc\n",
        "\n",
        "                ans_tokens = context_tokens[ans_start_wordloc:ans_end_wordloc+1]\n",
        "                if \"\".join(ans_tokens) != \"\".join(ans_text.split()):\n",
        "                    continue\n",
        "                if len(question_tokens)>max_len_question:\n",
        "                    max_len_question = len(question_tokens)\n",
        "\n",
        "                exmpl.append((' '.join(context_tokens), ' '.join(question_tokens), ' '.join(ans_tokens), ' '.join([str(ans_start_wordloc), str(ans_end_wordloc)])))\n",
        "                exm += 1\n",
        "    print(\"Number Total examples: \"+str(exm))\n",
        "    return exmpl,max_len_context,max_len_question"
      ],
      "id": "bf0b7612-b7e2-48f7-83d5-7c62ffd0d952"
    },
    {
      "cell_type": "code",
      "execution_count": null,
      "metadata": {
        "colab": {
          "base_uri": "https://localhost:8080/"
        },
        "id": "faaf8772-835e-4fd7-b8a8-d4bd54c43199",
        "outputId": "f2026760-4637-44cc-fd33-6bcf0b812781"
      },
      "outputs": [
        {
          "output_type": "stream",
          "name": "stderr",
          "text": [
            "Preprocessing: 100%|██████████| 442/442 [00:49<00:00,  8.98it/s]"
          ]
        },
        {
          "output_type": "stream",
          "name": "stdout",
          "text": [
            "Number Total examples: 71812\n"
          ]
        },
        {
          "output_type": "stream",
          "name": "stderr",
          "text": [
            "\n"
          ]
        }
      ],
      "source": [
        "exmpl,max_len_context,max_len_question = preprocessing(data)"
      ],
      "id": "faaf8772-835e-4fd7-b8a8-d4bd54c43199"
    },
    {
      "cell_type": "code",
      "execution_count": null,
      "metadata": {
        "colab": {
          "base_uri": "https://localhost:8080/"
        },
        "id": "311ae1f3-173d-48ff-931d-c2051219202c",
        "outputId": "77e64c8f-ba78-4b73-d48f-582d99154bb1"
      },
      "outputs": [
        {
          "output_type": "stream",
          "name": "stdout",
          "text": [
            "('beyoncé giselle knowles-carter ( /biːˈjɒnseɪ/ bee-yon-say ) ( born september 4 , 1981 ) is an american singer , songwriter , record producer and actress . born and raised in houston , texas , she performed in various singing and dancing competitions as a child , and rose to fame in the late 1990s as lead singer of r & b girl-group destiny \\'s child . managed by her father , mathew knowles , the group became one of the world \\'s best-selling girl groups of all time . their hiatus saw the release of beyoncé \\'s debut album , dangerously in love ( 2003 ) , which established her as a solo artist worldwide , earned five grammy awards and featured the billboard hot 100 number-one singles \" crazy in love \" and \" baby boy \" .', 'when did beyonce start becoming popular ?', 'in the late 1990s', '50 53')\n",
            "250\n",
            "30\n"
          ]
        }
      ],
      "source": [
        "print(exmpl[0])\n",
        "print(max_len_context)\n",
        "print(max_len_question)"
      ],
      "id": "311ae1f3-173d-48ff-931d-c2051219202c"
    },
    {
      "cell_type": "code",
      "execution_count": null,
      "metadata": {
        "id": "a4892f00-f44c-4673-bab1-0e10e5d505a7"
      },
      "outputs": [],
      "source": [
        "def glove_process():\n",
        "    _pad = b\"<pad>\"\n",
        "    _unk = b\"<unk>\"\n",
        "    _extra_vocab = [_pad, _unk]\n",
        "    padid = 0\n",
        "    unkid = 1\n",
        "    vocab_size = int(4e5)\n",
        "\n",
        "    emd_mat = np.zeros((vocab_size+len(_extra_vocab),100))\n",
        "    word2idx = {}\n",
        "    idx2word = {}\n",
        "\n",
        "    idx = 0\n",
        "\n",
        "    for w in _extra_vocab:\n",
        "        word2idx[w]=idx\n",
        "        idx2word[idx]=w\n",
        "        idx+=1\n",
        "\n",
        "    f = open('./drive/MyDrive/data/glove.6B.100d.txt','r')\n",
        "\n",
        "    for line in tqdm(f, total=vocab_size):\n",
        "        line = line.lstrip().rstrip().split(\" \")\n",
        "        w = line[0]\n",
        "        embedding = list(map(float, line[1:]))\n",
        "        emd_mat[idx, :] = embedding\n",
        "        word2idx[w] = idx\n",
        "        idx2word[idx] = w\n",
        "        idx += 1\n",
        "    return emd_mat, word2idx, idx2word"
      ],
      "id": "a4892f00-f44c-4673-bab1-0e10e5d505a7"
    },
    {
      "cell_type": "code",
      "execution_count": null,
      "metadata": {
        "colab": {
          "base_uri": "https://localhost:8080/"
        },
        "id": "df502a40-b95b-434a-b9f9-c9547800bd14",
        "outputId": "94076c02-6c17-4855-d934-7768cd3d7504"
      },
      "outputs": [
        {
          "output_type": "stream",
          "name": "stderr",
          "text": [
            "100%|██████████| 400000/400000 [00:14<00:00, 28327.41it/s]\n"
          ]
        }
      ],
      "source": [
        "vocab_size = int(4e5)+2\n",
        "em,word2idx,idx2word = glove_process()"
      ],
      "id": "df502a40-b95b-434a-b9f9-c9547800bd14"
    },
    {
      "cell_type": "code",
      "execution_count": null,
      "metadata": {
        "id": "1fecae3d-6f6e-4bb3-95a8-c10096a7eef1"
      },
      "outputs": [],
      "source": [
        "def sentences_to_indices(X, word_to_index, max_len):\n",
        "    m = X.shape[0]\n",
        "    X_indices = np.zeros((m,max_len))\n",
        "\n",
        "    for i in range(m):\n",
        "\n",
        "        # Convert the ith training sentence in lower case and split is into words. You should get a list of words.\n",
        "        sentence_words = X[i].lower().split()\n",
        "\n",
        "        # Initialize j to 0\n",
        "        j = 0\n",
        "\n",
        "        # Loop over the words of sentence_words\n",
        "        for w in sentence_words:\n",
        "            # Set the (i,j)th entry of X_indices to the index of the correct word.\n",
        "            if w in word_to_index.keys():\n",
        "                X_indices[i, j] = word_to_index[w]\n",
        "            else:\n",
        "                X_indices[i, j] = word_to_index[b\"<unk>\"]\n",
        "            # Increment j to j + 1\n",
        "            j += 1\n",
        "\n",
        "    ### END CODE HERE ###\n",
        "\n",
        "    return X_indices"
      ],
      "id": "1fecae3d-6f6e-4bb3-95a8-c10096a7eef1"
    },
    {
      "cell_type": "code",
      "execution_count": null,
      "metadata": {
        "id": "80a4628a-e728-471c-b91f-449a1a348308"
      },
      "outputs": [],
      "source": [
        "import math\n",
        "b_size=64\n",
        "n = math.floor((len(exmpl)/b_size))*b_size\n",
        "m = np.array(exmpl[:n])"
      ],
      "id": "80a4628a-e728-471c-b91f-449a1a348308"
    },
    {
      "cell_type": "code",
      "execution_count": null,
      "metadata": {
        "id": "705831c8-5f12-4fba-8679-9c4f868cc88a"
      },
      "outputs": [],
      "source": [
        "con = sentences_to_indices(m[:,0],word2idx,max_len_context)\n",
        "qe = sentences_to_indices(m[:,1],word2idx,max_len_question)"
      ],
      "id": "705831c8-5f12-4fba-8679-9c4f868cc88a"
    },
    {
      "cell_type": "code",
      "execution_count": null,
      "metadata": {
        "id": "b7fcebbf-fc93-4fd7-ab7e-e426a99a080d"
      },
      "outputs": [],
      "source": [
        "def pretrained_embedding_layer(voc_len,emb_mat):\n",
        "    embedding_layer = Embedding(voc_len, 100,trainable=False)\n",
        "    embedding_layer.build((None,))\n",
        "    embedding_layer.set_weights([emb_mat])\n",
        "\n",
        "    return embedding_layer"
      ],
      "id": "b7fcebbf-fc93-4fd7-ab7e-e426a99a080d"
    },
    {
      "cell_type": "code",
      "execution_count": null,
      "metadata": {
        "id": "0c1691e3-b05a-4d4e-8b47-f18378e34f92"
      },
      "outputs": [],
      "source": [
        "concatenator = Concatenate(axis=2)"
      ],
      "id": "0c1691e3-b05a-4d4e-8b47-f18378e34f92"
    },
    {
      "cell_type": "code",
      "execution_count": null,
      "metadata": {
        "id": "75620ae8-1f16-49ae-b600-9b7afc02f88f"
      },
      "outputs": [],
      "source": [
        "def encoder(embedding_context,embedding_question):\n",
        "    H_P = Bidirectional(GRU(150,return_sequences=True))(embedding_context)\n",
        "    H_Q = Bidirectional(GRU(150,return_sequences=True))(embedding_question)\n",
        "    return H_P,H_Q"
      ],
      "id": "75620ae8-1f16-49ae-b600-9b7afc02f88f"
    },
    {
      "cell_type": "code",
      "execution_count": null,
      "metadata": {
        "id": "hzgqzt8RGaf6"
      },
      "outputs": [],
      "source": [
        "def matrix_multiplication(mat, weight):\n",
        "  # [batch_size, seq_len, hidden_size] * [hidden_size, p] = [batch_size, seq_len, p]\n",
        "  mat_shape = mat.get_shape().as_list()  # shape - ijk\n",
        "  weight_shape = weight.get_shape().as_list()  # shape -kl\n",
        "  assert (mat_shape[-1] == weight_shape[0])\n",
        "  mat_reshape = tf.reshape(mat, [-1, mat_shape[-1]])  # [batch_size * n, m]\n",
        "  mul = tf.matmul(mat_reshape, weight)  # [batch_size * n, p]\n",
        "  return tf.reshape(mul, [-1, mat_shape[1], weight_shape[-1]])  # reshape to batch_size, seq_len, p\n"
      ],
      "id": "hzgqzt8RGaf6"
    },
    {
      "cell_type": "code",
      "execution_count": null,
      "metadata": {
        "id": "jlQqA3mMFHhM"
      },
      "outputs": [],
      "source": [
        "def highway_layer(x,size,cb=-1):\n",
        "  W_T = tf.Variable(tf.random.truncated_normal([size, size], stddev=0.1), name=\"weight_transform\")\n",
        "  b_T = tf.Variable(tf.constant(cb, shape=[size],dtype='float32'), name=\"bias_transform\")\n",
        "\n",
        "  W = tf.Variable(tf.random.truncated_normal([size, size], stddev=0.1), name=\"weight\")\n",
        "  b = tf.Variable(tf.constant(0.1, shape=[size],dtype='float32'), name=\"bias\")\n",
        "\n",
        "  T = tf.sigmoid(matrix_multiplication(x, W_T) + b_T, name=\"transform_gate\")\n",
        "  H = tf.nn.relu(matrix_multiplication(x, W) + b, name=\"activation\")\n",
        "\n",
        "  C = tf.subtract(1.0, T, name=\"carry_gate\")\n",
        "\n",
        "  y = tf.add(tf.multiply(H, T), tf.multiply(x, C), \"y\")\n",
        "  return y"
      ],
      "id": "jlQqA3mMFHhM"
    },
    {
      "cell_type": "code",
      "execution_count": null,
      "metadata": {
        "id": "2e4240a3-695e-4edf-a315-a324c48c849a"
      },
      "outputs": [],
      "source": [
        "def basic_attention(H_P,H_Q):\n",
        "    z = tf.matmul(H_P,tf.transpose(H_Q,perm=[0, 2, 1]))\n",
        "    z = tf.nn.softmax(z, 2)\n",
        "    z = tf.matmul(z,H_Q)\n",
        "    concate =  tf.concat([H_P, z], axis=2)\n",
        "    return concate"
      ],
      "id": "2e4240a3-695e-4edf-a315-a324c48c849a"
    },
    {
      "cell_type": "code",
      "execution_count": null,
      "metadata": {
        "id": "a4cba076"
      },
      "outputs": [],
      "source": [
        "def mask_sm(logits,dim):\n",
        "    mask = (logits==0)\n",
        "    mask_exp = (tf.cast(mask, 'float'))*(1e-30)\n",
        "    mask_logits = tf.add(logits,mask_exp)\n",
        "    ans = tf.nn.softmax(mask_logits, dim)\n",
        "    return ans"
      ],
      "id": "a4cba076"
    },
    {
      "cell_type": "code",
      "execution_count": null,
      "metadata": {
        "id": "b5a22029-5313-4cfb-b0e2-433cac0f15e0"
      },
      "outputs": [],
      "source": [
        "def bidaf_attention(H_P,H_Q):\n",
        "    S_W = tf.Variable(tf.initializers.GlorotUniform()(shape=[3*300]))\n",
        "    c_expand = tf.expand_dims(H_P,2)\n",
        "    q_expand = tf.expand_dims(H_Q,1)\n",
        "    c_pointWise_q = c_expand * q_expand\n",
        "    c_input = tf.tile(c_expand, [1, 1, tf.shape(H_Q)[1], 1])\n",
        "    q_input = tf.tile(q_expand, [1, tf.shape(H_P)[1], 1, 1])\n",
        "    concat_input = tf.concat([c_input, q_input, c_pointWise_q], -1)\n",
        "    similarity=tf.reduce_sum(concat_input * S_W, axis=3)\n",
        "\n",
        "    #c2q_dist = tf.nn.softmax(similarity, 2)\n",
        "    c2q_dist = mask_sm(similarity, 2)\n",
        "\n",
        "    c2q = tf.matmul(c2q_dist, H_Q)\n",
        "    S_max = tf.reduce_max(similarity, axis=2)\n",
        "\n",
        "    #c_dash_dist = tf.nn.softmax(S_max,1)\n",
        "    c_dash_dist = mask_sm(S_max,1)\n",
        "\n",
        "    c_dash_dist_expand = tf.expand_dims(c_dash_dist, 1)\n",
        "    c_dash = tf.matmul(c_dash_dist_expand, H_P)\n",
        "    c_c2q = H_P * c2q\n",
        "    c_c_dash = H_P * c_dash\n",
        "    output = tf.concat([c2q, c_c2q, c_c_dash], axis=2)\n",
        "    ble_rep = tf.concat([H_P, output], axis=2)\n",
        "    concate  = Bidirectional(GRU(150,return_sequences=True))(ble_rep)\n",
        "    return concate"
      ],
      "id": "b5a22029-5313-4cfb-b0e2-433cac0f15e0"
    },
    {
      "cell_type": "code",
      "execution_count": null,
      "metadata": {
        "id": "a86f3897-0098-4b2d-ad75-6105aa3156a4"
      },
      "outputs": [],
      "source": [
        "def decoder(concate_final):\n",
        "    s = Dense(1,activation=None)(concate_final)\n",
        "    s = tf.squeeze(s, axis=[2])\n",
        "    #s = mask_sm(s,0)\n",
        "\n",
        "    e = Dense(1,activation=None)(concate_final)\n",
        "    e = tf.squeeze(e, axis=[2])\n",
        "    #e = mask_sm(e,0)\n",
        "    return s,e"
      ],
      "id": "a86f3897-0098-4b2d-ad75-6105aa3156a4"
    },
    {
      "cell_type": "code",
      "execution_count": null,
      "metadata": {
        "id": "6a4760e5-9efe-41c6-9b18-3c1a1f981c3b"
      },
      "outputs": [],
      "source": [
        "def modelf(b_size,attention_type=\"basic\"):\n",
        "    context_indices = Input(shape = (max_len_context,),batch_size=b_size)\n",
        "    question_indices = Input(shape = (max_len_question,),batch_size=b_size)\n",
        "\n",
        "    embedding_layer = pretrained_embedding_layer(vocab_size,em)\n",
        "    embedding_context = embedding_layer(context_indices)\n",
        "    embedding_question = embedding_layer(question_indices)\n",
        "\n",
        "    dim = embedding_context.get_shape().as_list()[-1]\n",
        "\n",
        "    for i in range(2):\n",
        "      embedding_context = highway_layer(embedding_context,dim,cb=-1)\n",
        "      embedding_question = highway_layer(embedding_question,dim,cb=-1)\n",
        "    H_P,H_Q = encoder(embedding_context,embedding_question)\n",
        "\n",
        "    if attention_type==\"basic\":\n",
        "        concate = basic_attention(H_P,H_Q)\n",
        "    else:\n",
        "        #Bidef attention\n",
        "        concate = bidaf_attention(H_P,H_Q)\n",
        "\n",
        "    concate_final = Dense(200,activation='relu')(concate)\n",
        "\n",
        "    s,e = decoder(concate_final)\n",
        "\n",
        "    model = Model(inputs=[context_indices,question_indices],outputs=tf.transpose(tf.stack([s,e]),[1, 0, 2]))\n",
        "    return model"
      ],
      "id": "6a4760e5-9efe-41c6-9b18-3c1a1f981c3b"
    },
    {
      "cell_type": "code",
      "execution_count": null,
      "metadata": {
        "colab": {
          "base_uri": "https://localhost:8080/"
        },
        "id": "697044d2-6264-4a23-a747-b42f0cdc4172",
        "outputId": "c00ba46b-3437-4690-bfd5-1af2586576cd"
      },
      "outputs": [
        {
          "output_type": "stream",
          "name": "stdout",
          "text": [
            "WARNING:tensorflow:The following Variables were used in a Lambda layer's call (tf.linalg.matmul), but are not present in its tracked objects:   <tf.Variable 'weight_transform:0' shape=(100, 100) dtype=float32>. This is a strong indication that the Lambda layer should be rewritten as a subclassed Layer.\n",
            "WARNING:tensorflow:The following Variables were used in a Lambda layer's call (tf.__operators__.add), but are not present in its tracked objects:   <tf.Variable 'bias_transform:0' shape=(100,) dtype=float32>. This is a strong indication that the Lambda layer should be rewritten as a subclassed Layer.\n",
            "WARNING:tensorflow:The following Variables were used in a Lambda layer's call (tf.linalg.matmul_1), but are not present in its tracked objects:   <tf.Variable 'weight:0' shape=(100, 100) dtype=float32>. This is a strong indication that the Lambda layer should be rewritten as a subclassed Layer.\n",
            "WARNING:tensorflow:The following Variables were used in a Lambda layer's call (tf.__operators__.add_1), but are not present in its tracked objects:   <tf.Variable 'bias:0' shape=(100,) dtype=float32>. This is a strong indication that the Lambda layer should be rewritten as a subclassed Layer.\n",
            "WARNING:tensorflow:The following Variables were used in a Lambda layer's call (tf.linalg.matmul_2), but are not present in its tracked objects:   <tf.Variable 'weight_transform:0' shape=(100, 100) dtype=float32>. This is a strong indication that the Lambda layer should be rewritten as a subclassed Layer.\n",
            "WARNING:tensorflow:The following Variables were used in a Lambda layer's call (tf.__operators__.add_2), but are not present in its tracked objects:   <tf.Variable 'bias_transform:0' shape=(100,) dtype=float32>. This is a strong indication that the Lambda layer should be rewritten as a subclassed Layer.\n",
            "WARNING:tensorflow:The following Variables were used in a Lambda layer's call (tf.linalg.matmul_3), but are not present in its tracked objects:   <tf.Variable 'weight:0' shape=(100, 100) dtype=float32>. This is a strong indication that the Lambda layer should be rewritten as a subclassed Layer.\n",
            "WARNING:tensorflow:The following Variables were used in a Lambda layer's call (tf.__operators__.add_3), but are not present in its tracked objects:   <tf.Variable 'bias:0' shape=(100,) dtype=float32>. This is a strong indication that the Lambda layer should be rewritten as a subclassed Layer.\n",
            "WARNING:tensorflow:The following Variables were used in a Lambda layer's call (tf.linalg.matmul_4), but are not present in its tracked objects:   <tf.Variable 'weight_transform:0' shape=(100, 100) dtype=float32>. This is a strong indication that the Lambda layer should be rewritten as a subclassed Layer.\n",
            "WARNING:tensorflow:The following Variables were used in a Lambda layer's call (tf.__operators__.add_4), but are not present in its tracked objects:   <tf.Variable 'bias_transform:0' shape=(100,) dtype=float32>. This is a strong indication that the Lambda layer should be rewritten as a subclassed Layer.\n",
            "WARNING:tensorflow:The following Variables were used in a Lambda layer's call (tf.linalg.matmul_5), but are not present in its tracked objects:   <tf.Variable 'weight:0' shape=(100, 100) dtype=float32>. This is a strong indication that the Lambda layer should be rewritten as a subclassed Layer.\n",
            "WARNING:tensorflow:The following Variables were used in a Lambda layer's call (tf.__operators__.add_5), but are not present in its tracked objects:   <tf.Variable 'bias:0' shape=(100,) dtype=float32>. This is a strong indication that the Lambda layer should be rewritten as a subclassed Layer.\n",
            "WARNING:tensorflow:The following Variables were used in a Lambda layer's call (tf.linalg.matmul_6), but are not present in its tracked objects:   <tf.Variable 'weight_transform:0' shape=(100, 100) dtype=float32>. This is a strong indication that the Lambda layer should be rewritten as a subclassed Layer.\n",
            "WARNING:tensorflow:The following Variables were used in a Lambda layer's call (tf.__operators__.add_6), but are not present in its tracked objects:   <tf.Variable 'bias_transform:0' shape=(100,) dtype=float32>. This is a strong indication that the Lambda layer should be rewritten as a subclassed Layer.\n",
            "WARNING:tensorflow:The following Variables were used in a Lambda layer's call (tf.linalg.matmul_7), but are not present in its tracked objects:   <tf.Variable 'weight:0' shape=(100, 100) dtype=float32>. This is a strong indication that the Lambda layer should be rewritten as a subclassed Layer.\n",
            "WARNING:tensorflow:The following Variables were used in a Lambda layer's call (tf.__operators__.add_7), but are not present in its tracked objects:   <tf.Variable 'bias:0' shape=(100,) dtype=float32>. This is a strong indication that the Lambda layer should be rewritten as a subclassed Layer.\n",
            "WARNING:tensorflow:The following Variables were used in a Lambda layer's call (tf.math.multiply_9), but are not present in its tracked objects:   <tf.Variable 'Variable:0' shape=(900,) dtype=float32>. This is a strong indication that the Lambda layer should be rewritten as a subclassed Layer.\n"
          ]
        }
      ],
      "source": [
        "model = modelf(b_size,\"bidef\")"
      ],
      "id": "697044d2-6264-4a23-a747-b42f0cdc4172"
    },
    {
      "cell_type": "code",
      "execution_count": null,
      "metadata": {
        "colab": {
          "base_uri": "https://localhost:8080/"
        },
        "id": "0dc7c088-3e25-47c3-b320-4a9fbf04de48",
        "outputId": "8327af36-9211-406a-8193-a1901a11badd"
      },
      "outputs": [
        {
          "output_type": "stream",
          "name": "stdout",
          "text": [
            "Model: \"model\"\n",
            "__________________________________________________________________________________________________\n",
            " Layer (type)                   Output Shape         Param #     Connected to                     \n",
            "==================================================================================================\n",
            " input_1 (InputLayer)           [(64, 250)]          0           []                               \n",
            "                                                                                                  \n",
            " input_2 (InputLayer)           [(64, 30)]           0           []                               \n",
            "                                                                                                  \n",
            " embedding (Embedding)          multiple             40000200    ['input_1[0][0]',                \n",
            "                                                                  'input_2[0][0]']                \n",
            "                                                                                                  \n",
            " tf.reshape (TFOpLambda)        (16000, 100)         0           ['embedding[0][0]']              \n",
            "                                                                                                  \n",
            " tf.reshape_4 (TFOpLambda)      (1920, 100)          0           ['embedding[1][0]']              \n",
            "                                                                                                  \n",
            " tf.reshape_2 (TFOpLambda)      (16000, 100)         0           ['embedding[0][0]']              \n",
            "                                                                                                  \n",
            " tf.linalg.matmul (TFOpLambda)  (16000, 100)         0           ['tf.reshape[0][0]']             \n",
            "                                                                                                  \n",
            " tf.reshape_6 (TFOpLambda)      (1920, 100)          0           ['embedding[1][0]']              \n",
            "                                                                                                  \n",
            " tf.linalg.matmul_2 (TFOpLambda  (1920, 100)         0           ['tf.reshape_4[0][0]']           \n",
            " )                                                                                                \n",
            "                                                                                                  \n",
            " tf.linalg.matmul_1 (TFOpLambda  (16000, 100)        0           ['tf.reshape_2[0][0]']           \n",
            " )                                                                                                \n",
            "                                                                                                  \n",
            " tf.reshape_1 (TFOpLambda)      (64, 250, 100)       0           ['tf.linalg.matmul[0][0]']       \n",
            "                                                                                                  \n",
            " tf.linalg.matmul_3 (TFOpLambda  (1920, 100)         0           ['tf.reshape_6[0][0]']           \n",
            " )                                                                                                \n",
            "                                                                                                  \n",
            " tf.reshape_5 (TFOpLambda)      (64, 30, 100)        0           ['tf.linalg.matmul_2[0][0]']     \n",
            "                                                                                                  \n",
            " tf.reshape_3 (TFOpLambda)      (64, 250, 100)       0           ['tf.linalg.matmul_1[0][0]']     \n",
            "                                                                                                  \n",
            " tf.__operators__.add (TFOpLamb  (64, 250, 100)      0           ['tf.reshape_1[0][0]']           \n",
            " da)                                                                                              \n",
            "                                                                                                  \n",
            " tf.reshape_7 (TFOpLambda)      (64, 30, 100)        0           ['tf.linalg.matmul_3[0][0]']     \n",
            "                                                                                                  \n",
            " tf.__operators__.add_2 (TFOpLa  (64, 30, 100)       0           ['tf.reshape_5[0][0]']           \n",
            " mbda)                                                                                            \n",
            "                                                                                                  \n",
            " tf.__operators__.add_1 (TFOpLa  (64, 250, 100)      0           ['tf.reshape_3[0][0]']           \n",
            " mbda)                                                                                            \n",
            "                                                                                                  \n",
            " tf.math.sigmoid (TFOpLambda)   (64, 250, 100)       0           ['tf.__operators__.add[0][0]']   \n",
            "                                                                                                  \n",
            " tf.__operators__.add_3 (TFOpLa  (64, 30, 100)       0           ['tf.reshape_7[0][0]']           \n",
            " mbda)                                                                                            \n",
            "                                                                                                  \n",
            " tf.math.sigmoid_1 (TFOpLambda)  (64, 30, 100)       0           ['tf.__operators__.add_2[0][0]'] \n",
            "                                                                                                  \n",
            " tf.nn.relu (TFOpLambda)        (64, 250, 100)       0           ['tf.__operators__.add_1[0][0]'] \n",
            "                                                                                                  \n",
            " tf.math.subtract (TFOpLambda)  (64, 250, 100)       0           ['tf.math.sigmoid[0][0]']        \n",
            "                                                                                                  \n",
            " tf.nn.relu_1 (TFOpLambda)      (64, 30, 100)        0           ['tf.__operators__.add_3[0][0]'] \n",
            "                                                                                                  \n",
            " tf.math.subtract_1 (TFOpLambda  (64, 30, 100)       0           ['tf.math.sigmoid_1[0][0]']      \n",
            " )                                                                                                \n",
            "                                                                                                  \n",
            " tf.math.multiply (TFOpLambda)  (64, 250, 100)       0           ['tf.nn.relu[0][0]',             \n",
            "                                                                  'tf.math.sigmoid[0][0]']        \n",
            "                                                                                                  \n",
            " tf.math.multiply_1 (TFOpLambda  (64, 250, 100)      0           ['embedding[0][0]',              \n",
            " )                                                                'tf.math.subtract[0][0]']       \n",
            "                                                                                                  \n",
            " tf.math.multiply_2 (TFOpLambda  (64, 30, 100)       0           ['tf.nn.relu_1[0][0]',           \n",
            " )                                                                'tf.math.sigmoid_1[0][0]']      \n",
            "                                                                                                  \n",
            " tf.math.multiply_3 (TFOpLambda  (64, 30, 100)       0           ['embedding[1][0]',              \n",
            " )                                                                'tf.math.subtract_1[0][0]']     \n",
            "                                                                                                  \n",
            " tf.math.add (TFOpLambda)       (64, 250, 100)       0           ['tf.math.multiply[0][0]',       \n",
            "                                                                  'tf.math.multiply_1[0][0]']     \n",
            "                                                                                                  \n",
            " tf.math.add_1 (TFOpLambda)     (64, 30, 100)        0           ['tf.math.multiply_2[0][0]',     \n",
            "                                                                  'tf.math.multiply_3[0][0]']     \n",
            "                                                                                                  \n",
            " tf.reshape_8 (TFOpLambda)      (16000, 100)         0           ['tf.math.add[0][0]']            \n",
            "                                                                                                  \n",
            " tf.reshape_12 (TFOpLambda)     (1920, 100)          0           ['tf.math.add_1[0][0]']          \n",
            "                                                                                                  \n",
            " tf.reshape_10 (TFOpLambda)     (16000, 100)         0           ['tf.math.add[0][0]']            \n",
            "                                                                                                  \n",
            " tf.linalg.matmul_4 (TFOpLambda  (16000, 100)        0           ['tf.reshape_8[0][0]']           \n",
            " )                                                                                                \n",
            "                                                                                                  \n",
            " tf.reshape_14 (TFOpLambda)     (1920, 100)          0           ['tf.math.add_1[0][0]']          \n",
            "                                                                                                  \n",
            " tf.linalg.matmul_6 (TFOpLambda  (1920, 100)         0           ['tf.reshape_12[0][0]']          \n",
            " )                                                                                                \n",
            "                                                                                                  \n",
            " tf.linalg.matmul_5 (TFOpLambda  (16000, 100)        0           ['tf.reshape_10[0][0]']          \n",
            " )                                                                                                \n",
            "                                                                                                  \n",
            " tf.reshape_9 (TFOpLambda)      (64, 250, 100)       0           ['tf.linalg.matmul_4[0][0]']     \n",
            "                                                                                                  \n",
            " tf.linalg.matmul_7 (TFOpLambda  (1920, 100)         0           ['tf.reshape_14[0][0]']          \n",
            " )                                                                                                \n",
            "                                                                                                  \n",
            " tf.reshape_13 (TFOpLambda)     (64, 30, 100)        0           ['tf.linalg.matmul_6[0][0]']     \n",
            "                                                                                                  \n",
            " tf.reshape_11 (TFOpLambda)     (64, 250, 100)       0           ['tf.linalg.matmul_5[0][0]']     \n",
            "                                                                                                  \n",
            " tf.__operators__.add_4 (TFOpLa  (64, 250, 100)      0           ['tf.reshape_9[0][0]']           \n",
            " mbda)                                                                                            \n",
            "                                                                                                  \n",
            " tf.reshape_15 (TFOpLambda)     (64, 30, 100)        0           ['tf.linalg.matmul_7[0][0]']     \n",
            "                                                                                                  \n",
            " tf.__operators__.add_6 (TFOpLa  (64, 30, 100)       0           ['tf.reshape_13[0][0]']          \n",
            " mbda)                                                                                            \n",
            "                                                                                                  \n",
            " tf.__operators__.add_5 (TFOpLa  (64, 250, 100)      0           ['tf.reshape_11[0][0]']          \n",
            " mbda)                                                                                            \n",
            "                                                                                                  \n",
            " tf.math.sigmoid_2 (TFOpLambda)  (64, 250, 100)      0           ['tf.__operators__.add_4[0][0]'] \n",
            "                                                                                                  \n",
            " tf.__operators__.add_7 (TFOpLa  (64, 30, 100)       0           ['tf.reshape_15[0][0]']          \n",
            " mbda)                                                                                            \n",
            "                                                                                                  \n",
            " tf.math.sigmoid_3 (TFOpLambda)  (64, 30, 100)       0           ['tf.__operators__.add_6[0][0]'] \n",
            "                                                                                                  \n",
            " tf.nn.relu_2 (TFOpLambda)      (64, 250, 100)       0           ['tf.__operators__.add_5[0][0]'] \n",
            "                                                                                                  \n",
            " tf.math.subtract_2 (TFOpLambda  (64, 250, 100)      0           ['tf.math.sigmoid_2[0][0]']      \n",
            " )                                                                                                \n",
            "                                                                                                  \n",
            " tf.nn.relu_3 (TFOpLambda)      (64, 30, 100)        0           ['tf.__operators__.add_7[0][0]'] \n",
            "                                                                                                  \n",
            " tf.math.subtract_3 (TFOpLambda  (64, 30, 100)       0           ['tf.math.sigmoid_3[0][0]']      \n",
            " )                                                                                                \n",
            "                                                                                                  \n",
            " tf.math.multiply_4 (TFOpLambda  (64, 250, 100)      0           ['tf.nn.relu_2[0][0]',           \n",
            " )                                                                'tf.math.sigmoid_2[0][0]']      \n",
            "                                                                                                  \n",
            " tf.math.multiply_5 (TFOpLambda  (64, 250, 100)      0           ['tf.math.add[0][0]',            \n",
            " )                                                                'tf.math.subtract_2[0][0]']     \n",
            "                                                                                                  \n",
            " tf.math.multiply_6 (TFOpLambda  (64, 30, 100)       0           ['tf.nn.relu_3[0][0]',           \n",
            " )                                                                'tf.math.sigmoid_3[0][0]']      \n",
            "                                                                                                  \n",
            " tf.math.multiply_7 (TFOpLambda  (64, 30, 100)       0           ['tf.math.add_1[0][0]',          \n",
            " )                                                                'tf.math.subtract_3[0][0]']     \n",
            "                                                                                                  \n",
            " tf.math.add_2 (TFOpLambda)     (64, 250, 100)       0           ['tf.math.multiply_4[0][0]',     \n",
            "                                                                  'tf.math.multiply_5[0][0]']     \n",
            "                                                                                                  \n",
            " tf.math.add_3 (TFOpLambda)     (64, 30, 100)        0           ['tf.math.multiply_6[0][0]',     \n",
            "                                                                  'tf.math.multiply_7[0][0]']     \n",
            "                                                                                                  \n",
            " bidirectional (Bidirectional)  (64, 250, 300)       226800      ['tf.math.add_2[0][0]']          \n",
            "                                                                                                  \n",
            " bidirectional_1 (Bidirectional  (64, 30, 300)       226800      ['tf.math.add_3[0][0]']          \n",
            " )                                                                                                \n",
            "                                                                                                  \n",
            " tf.compat.v1.shape (TFOpLambda  (3,)                0           ['bidirectional_1[0][0]']        \n",
            " )                                                                                                \n",
            "                                                                                                  \n",
            " tf.compat.v1.shape_1 (TFOpLamb  (3,)                0           ['bidirectional[0][0]']          \n",
            " da)                                                                                              \n",
            "                                                                                                  \n",
            " tf.expand_dims (TFOpLambda)    (64, 250, 1, 300)    0           ['bidirectional[0][0]']          \n",
            "                                                                                                  \n",
            " tf.__operators__.getitem (Slic  ()                  0           ['tf.compat.v1.shape[0][0]']     \n",
            " ingOpLambda)                                                                                     \n",
            "                                                                                                  \n",
            " tf.expand_dims_1 (TFOpLambda)  (64, 1, 30, 300)     0           ['bidirectional_1[0][0]']        \n",
            "                                                                                                  \n",
            " tf.__operators__.getitem_1 (Sl  ()                  0           ['tf.compat.v1.shape_1[0][0]']   \n",
            " icingOpLambda)                                                                                   \n",
            "                                                                                                  \n",
            " tf.tile (TFOpLambda)           (64, 250, 30, 300)   0           ['tf.expand_dims[0][0]',         \n",
            "                                                                  'tf.__operators__.getitem[0][0]'\n",
            "                                                                 ]                                \n",
            "                                                                                                  \n",
            " tf.tile_1 (TFOpLambda)         (64, 250, 30, 300)   0           ['tf.expand_dims_1[0][0]',       \n",
            "                                                                  'tf.__operators__.getitem_1[0][0\n",
            "                                                                 ]']                              \n",
            "                                                                                                  \n",
            " tf.math.multiply_8 (TFOpLambda  (64, 250, 30, 300)  0           ['tf.expand_dims[0][0]',         \n",
            " )                                                                'tf.expand_dims_1[0][0]']       \n",
            "                                                                                                  \n",
            " tf.concat (TFOpLambda)         (64, 250, 30, 900)   0           ['tf.tile[0][0]',                \n",
            "                                                                  'tf.tile_1[0][0]',              \n",
            "                                                                  'tf.math.multiply_8[0][0]']     \n",
            "                                                                                                  \n",
            " tf.math.multiply_9 (TFOpLambda  (64, 250, 30, 900)  0           ['tf.concat[0][0]']              \n",
            " )                                                                                                \n",
            "                                                                                                  \n",
            " tf.math.reduce_sum (TFOpLambda  (64, 250, 30)       0           ['tf.math.multiply_9[0][0]']     \n",
            " )                                                                                                \n",
            "                                                                                                  \n",
            " tf.math.reduce_max (TFOpLambda  (64, 250)           0           ['tf.math.reduce_sum[0][0]']     \n",
            " )                                                                                                \n",
            "                                                                                                  \n",
            " tf.__operators__.eq_1 (TFOpLam  (64, 250)           0           ['tf.math.reduce_max[0][0]']     \n",
            " bda)                                                                                             \n",
            "                                                                                                  \n",
            " tf.__operators__.eq (TFOpLambd  (64, 250, 30)       0           ['tf.math.reduce_sum[0][0]']     \n",
            " a)                                                                                               \n",
            "                                                                                                  \n",
            " tf.cast_1 (TFOpLambda)         (64, 250)            0           ['tf.__operators__.eq_1[0][0]']  \n",
            "                                                                                                  \n",
            " tf.cast (TFOpLambda)           (64, 250, 30)        0           ['tf.__operators__.eq[0][0]']    \n",
            "                                                                                                  \n",
            " tf.math.multiply_11 (TFOpLambd  (64, 250)           0           ['tf.cast_1[0][0]']              \n",
            " a)                                                                                               \n",
            "                                                                                                  \n",
            " tf.math.multiply_10 (TFOpLambd  (64, 250, 30)       0           ['tf.cast[0][0]']                \n",
            " a)                                                                                               \n",
            "                                                                                                  \n",
            " tf.math.add_5 (TFOpLambda)     (64, 250)            0           ['tf.math.reduce_max[0][0]',     \n",
            "                                                                  'tf.math.multiply_11[0][0]']    \n",
            "                                                                                                  \n",
            " tf.math.add_4 (TFOpLambda)     (64, 250, 30)        0           ['tf.math.reduce_sum[0][0]',     \n",
            "                                                                  'tf.math.multiply_10[0][0]']    \n",
            "                                                                                                  \n",
            " tf.nn.softmax_1 (TFOpLambda)   (64, 250)            0           ['tf.math.add_5[0][0]']          \n",
            "                                                                                                  \n",
            " tf.nn.softmax (TFOpLambda)     (64, 250, 30)        0           ['tf.math.add_4[0][0]']          \n",
            "                                                                                                  \n",
            " tf.expand_dims_2 (TFOpLambda)  (64, 1, 250)         0           ['tf.nn.softmax_1[0][0]']        \n",
            "                                                                                                  \n",
            " tf.linalg.matmul_8 (TFOpLambda  (64, 250, 300)      0           ['tf.nn.softmax[0][0]',          \n",
            " )                                                                'bidirectional_1[0][0]']        \n",
            "                                                                                                  \n",
            " tf.linalg.matmul_9 (TFOpLambda  (64, 1, 300)        0           ['tf.expand_dims_2[0][0]',       \n",
            " )                                                                'bidirectional[0][0]']          \n",
            "                                                                                                  \n",
            " tf.math.multiply_12 (TFOpLambd  (64, 250, 300)      0           ['bidirectional[0][0]',          \n",
            " a)                                                               'tf.linalg.matmul_8[0][0]']     \n",
            "                                                                                                  \n",
            " tf.math.multiply_13 (TFOpLambd  (64, 250, 300)      0           ['bidirectional[0][0]',          \n",
            " a)                                                               'tf.linalg.matmul_9[0][0]']     \n",
            "                                                                                                  \n",
            " tf.concat_1 (TFOpLambda)       (64, 250, 900)       0           ['tf.linalg.matmul_8[0][0]',     \n",
            "                                                                  'tf.math.multiply_12[0][0]',    \n",
            "                                                                  'tf.math.multiply_13[0][0]']    \n",
            "                                                                                                  \n",
            " tf.concat_2 (TFOpLambda)       (64, 250, 1200)      0           ['bidirectional[0][0]',          \n",
            "                                                                  'tf.concat_1[0][0]']            \n",
            "                                                                                                  \n",
            " bidirectional_2 (Bidirectional  (64, 250, 300)      1216800     ['tf.concat_2[0][0]']            \n",
            " )                                                                                                \n",
            "                                                                                                  \n",
            " dense (Dense)                  (64, 250, 200)       60200       ['bidirectional_2[0][0]']        \n",
            "                                                                                                  \n",
            " dense_1 (Dense)                (64, 250, 1)         201         ['dense[0][0]']                  \n",
            "                                                                                                  \n",
            " dense_2 (Dense)                (64, 250, 1)         201         ['dense[0][0]']                  \n",
            "                                                                                                  \n",
            " tf.compat.v1.squeeze (TFOpLamb  (64, 250)           0           ['dense_1[0][0]']                \n",
            " da)                                                                                              \n",
            "                                                                                                  \n",
            " tf.compat.v1.squeeze_1 (TFOpLa  (64, 250)           0           ['dense_2[0][0]']                \n",
            " mbda)                                                                                            \n",
            "                                                                                                  \n",
            " tf.stack (TFOpLambda)          (2, 64, 250)         0           ['tf.compat.v1.squeeze[0][0]',   \n",
            "                                                                  'tf.compat.v1.squeeze_1[0][0]'] \n",
            "                                                                                                  \n",
            " tf.compat.v1.transpose (TFOpLa  (64, 2, 250)        0           ['tf.stack[0][0]']               \n",
            " mbda)                                                                                            \n",
            "                                                                                                  \n",
            "==================================================================================================\n",
            "Total params: 41,731,202\n",
            "Trainable params: 1,731,002\n",
            "Non-trainable params: 40,000,200\n",
            "__________________________________________________________________________________________________\n"
          ]
        }
      ],
      "source": [
        "model.summary()"
      ],
      "id": "0dc7c088-3e25-47c3-b320-4a9fbf04de48"
    },
    {
      "cell_type": "code",
      "execution_count": null,
      "metadata": {
        "id": "633b7784-0e9b-44ac-9e44-7ab61922a97f"
      },
      "outputs": [],
      "source": [
        "def custom_loss(y_true,y_pred):\n",
        "    loss_start = tf.nn.sparse_softmax_cross_entropy_with_logits(logits=y_pred[0,:], labels=y_true[0,:])\n",
        "    loss_start_m = tf.reduce_mean(loss_start)\n",
        "    loss_end = tf.nn.sparse_softmax_cross_entropy_with_logits(logits=y_pred[1,:], labels=y_true[1,:])\n",
        "    loss_end_m = tf.reduce_mean(loss_end)\n",
        "    loss = loss_start_m + loss_end_m\n",
        "    return loss"
      ],
      "id": "633b7784-0e9b-44ac-9e44-7ab61922a97f"
    },
    {
      "cell_type": "code",
      "execution_count": null,
      "metadata": {
        "id": "599b563c-148b-4937-b7f6-342a9ac85c2b"
      },
      "outputs": [],
      "source": [
        "#model.load_weights('./model/model_with_bidef_attention_p'+str(max_len_context)+'_q'+str(max_len_question))\n",
        "opt = Adam(learning_rate=0.001, beta_1=0.9, beta_2=0.999,clipvalue=5.0)\n",
        "model.compile(loss = custom_loss, optimizer = opt, metrics = ['accuracy'])"
      ],
      "id": "599b563c-148b-4937-b7f6-342a9ac85c2b"
    },
    {
      "cell_type": "code",
      "execution_count": null,
      "metadata": {
        "id": "d3028396-69c9-4717-839e-bbca75c2bd37"
      },
      "outputs": [],
      "source": [
        "def op(y):\n",
        "    l = []\n",
        "    for i in range(0,len(y)):\n",
        "        t=[]\n",
        "        for w in y[i].split():\n",
        "            t.append(int(w))\n",
        "        l.append(t)\n",
        "    return l"
      ],
      "id": "d3028396-69c9-4717-839e-bbca75c2bd37"
    },
    {
      "cell_type": "code",
      "execution_count": null,
      "metadata": {
        "colab": {
          "base_uri": "https://localhost:8080/"
        },
        "id": "69305319-a091-4486-9717-d2e21b918d23",
        "outputId": "1c89108d-71e3-410b-fdfe-d1a230c463e5"
      },
      "outputs": [
        {
          "output_type": "stream",
          "name": "stderr",
          "text": [
            "Preprocessing: 100%|██████████| 35/35 [00:03<00:00, 10.53it/s]\n"
          ]
        },
        {
          "output_type": "stream",
          "name": "stdout",
          "text": [
            "Number Total examples: 4820\n"
          ]
        }
      ],
      "source": [
        "f = open('./drive/MyDrive/data/dev-v2.0.json','r')\n",
        "val_data = json.load(f)\n",
        "val_exmpl,val_max_len_context,val_max_len_question = preprocessing(val_data)\n",
        "val_m = np.array(val_exmpl[:])\n",
        "val_con = sentences_to_indices(val_m[:,0],word2idx,max_len_context)\n",
        "val_qe = sentences_to_indices(val_m[:,1],word2idx,max_len_question)\n",
        "y1 = np.array(op(val_m[:,3]))"
      ],
      "id": "69305319-a091-4486-9717-d2e21b918d23"
    },
    {
      "cell_type": "code",
      "execution_count": null,
      "metadata": {
        "colab": {
          "base_uri": "https://localhost:8080/",
          "height": 371
        },
        "id": "d97750ab-17b1-4b8d-b291-62fbd806a1c2",
        "outputId": "b691424c-e0ed-4016-ed0f-0844c10e32ff"
      },
      "outputs": [
        {
          "output_type": "stream",
          "name": "stdout",
          "text": [
            "Epoch 1/5\n",
            " 148/1122 [==>...........................] - ETA: 13:29 - loss: 8.8944 - accuracy: 0.0520"
          ]
        },
        {
          "output_type": "error",
          "ename": "KeyboardInterrupt",
          "evalue": "ignored",
          "traceback": [
            "\u001b[0;31m---------------------------------------------------------------------------\u001b[0m",
            "\u001b[0;31mKeyboardInterrupt\u001b[0m                         Traceback (most recent call last)",
            "\u001b[0;32m<ipython-input-31-c043eb11ad1a>\u001b[0m in \u001b[0;36m<module>\u001b[0;34m()\u001b[0m\n\u001b[1;32m      1\u001b[0m \u001b[0my\u001b[0m \u001b[0;34m=\u001b[0m \u001b[0mnp\u001b[0m\u001b[0;34m.\u001b[0m\u001b[0marray\u001b[0m\u001b[0;34m(\u001b[0m\u001b[0mop\u001b[0m\u001b[0;34m(\u001b[0m\u001b[0mm\u001b[0m\u001b[0;34m[\u001b[0m\u001b[0;34m:\u001b[0m\u001b[0;34m,\u001b[0m\u001b[0;36m3\u001b[0m\u001b[0;34m]\u001b[0m\u001b[0;34m)\u001b[0m\u001b[0;34m)\u001b[0m\u001b[0;34m\u001b[0m\u001b[0;34m\u001b[0m\u001b[0m\n\u001b[0;32m----> 2\u001b[0;31m \u001b[0mh\u001b[0m \u001b[0;34m=\u001b[0m \u001b[0mmodel\u001b[0m\u001b[0;34m.\u001b[0m\u001b[0mfit\u001b[0m\u001b[0;34m(\u001b[0m\u001b[0;34m[\u001b[0m\u001b[0mcon\u001b[0m\u001b[0;34m,\u001b[0m\u001b[0mqe\u001b[0m\u001b[0;34m]\u001b[0m\u001b[0;34m,\u001b[0m\u001b[0my\u001b[0m\u001b[0;34m,\u001b[0m\u001b[0mepochs\u001b[0m\u001b[0;34m=\u001b[0m\u001b[0;36m5\u001b[0m\u001b[0;34m,\u001b[0m\u001b[0mbatch_size\u001b[0m\u001b[0;34m=\u001b[0m\u001b[0mb_size\u001b[0m\u001b[0;34m,\u001b[0m\u001b[0mvalidation_data\u001b[0m\u001b[0;34m=\u001b[0m\u001b[0;34m(\u001b[0m\u001b[0;34m[\u001b[0m\u001b[0mval_con\u001b[0m\u001b[0;34m[\u001b[0m\u001b[0;34m:\u001b[0m\u001b[0;36m4800\u001b[0m\u001b[0;34m]\u001b[0m\u001b[0;34m,\u001b[0m\u001b[0mval_qe\u001b[0m\u001b[0;34m[\u001b[0m\u001b[0;34m:\u001b[0m\u001b[0;36m4800\u001b[0m\u001b[0;34m]\u001b[0m\u001b[0;34m]\u001b[0m\u001b[0;34m,\u001b[0m\u001b[0my1\u001b[0m\u001b[0;34m[\u001b[0m\u001b[0;34m:\u001b[0m\u001b[0;36m4800\u001b[0m\u001b[0;34m]\u001b[0m\u001b[0;34m)\u001b[0m\u001b[0;34m)\u001b[0m\u001b[0;34m\u001b[0m\u001b[0;34m\u001b[0m\u001b[0m\n\u001b[0m",
            "\u001b[0;32m/usr/local/lib/python3.7/dist-packages/keras/utils/traceback_utils.py\u001b[0m in \u001b[0;36merror_handler\u001b[0;34m(*args, **kwargs)\u001b[0m\n\u001b[1;32m     62\u001b[0m     \u001b[0mfiltered_tb\u001b[0m \u001b[0;34m=\u001b[0m \u001b[0;32mNone\u001b[0m\u001b[0;34m\u001b[0m\u001b[0;34m\u001b[0m\u001b[0m\n\u001b[1;32m     63\u001b[0m     \u001b[0;32mtry\u001b[0m\u001b[0;34m:\u001b[0m\u001b[0;34m\u001b[0m\u001b[0;34m\u001b[0m\u001b[0m\n\u001b[0;32m---> 64\u001b[0;31m       \u001b[0;32mreturn\u001b[0m \u001b[0mfn\u001b[0m\u001b[0;34m(\u001b[0m\u001b[0;34m*\u001b[0m\u001b[0margs\u001b[0m\u001b[0;34m,\u001b[0m \u001b[0;34m**\u001b[0m\u001b[0mkwargs\u001b[0m\u001b[0;34m)\u001b[0m\u001b[0;34m\u001b[0m\u001b[0;34m\u001b[0m\u001b[0m\n\u001b[0m\u001b[1;32m     65\u001b[0m     \u001b[0;32mexcept\u001b[0m \u001b[0mException\u001b[0m \u001b[0;32mas\u001b[0m \u001b[0me\u001b[0m\u001b[0;34m:\u001b[0m  \u001b[0;31m# pylint: disable=broad-except\u001b[0m\u001b[0;34m\u001b[0m\u001b[0;34m\u001b[0m\u001b[0m\n\u001b[1;32m     66\u001b[0m       \u001b[0mfiltered_tb\u001b[0m \u001b[0;34m=\u001b[0m \u001b[0m_process_traceback_frames\u001b[0m\u001b[0;34m(\u001b[0m\u001b[0me\u001b[0m\u001b[0;34m.\u001b[0m\u001b[0m__traceback__\u001b[0m\u001b[0;34m)\u001b[0m\u001b[0;34m\u001b[0m\u001b[0;34m\u001b[0m\u001b[0m\n",
            "\u001b[0;32m/usr/local/lib/python3.7/dist-packages/keras/engine/training.py\u001b[0m in \u001b[0;36mfit\u001b[0;34m(self, x, y, batch_size, epochs, verbose, callbacks, validation_split, validation_data, shuffle, class_weight, sample_weight, initial_epoch, steps_per_epoch, validation_steps, validation_batch_size, validation_freq, max_queue_size, workers, use_multiprocessing)\u001b[0m\n\u001b[1;32m   1387\u001b[0m               \u001b[0mlogs\u001b[0m \u001b[0;34m=\u001b[0m \u001b[0mtmp_logs\u001b[0m  \u001b[0;31m# No error, now safe to assign to logs.\u001b[0m\u001b[0;34m\u001b[0m\u001b[0;34m\u001b[0m\u001b[0m\n\u001b[1;32m   1388\u001b[0m               \u001b[0mend_step\u001b[0m \u001b[0;34m=\u001b[0m \u001b[0mstep\u001b[0m \u001b[0;34m+\u001b[0m \u001b[0mdata_handler\u001b[0m\u001b[0;34m.\u001b[0m\u001b[0mstep_increment\u001b[0m\u001b[0;34m\u001b[0m\u001b[0;34m\u001b[0m\u001b[0m\n\u001b[0;32m-> 1389\u001b[0;31m               \u001b[0mcallbacks\u001b[0m\u001b[0;34m.\u001b[0m\u001b[0mon_train_batch_end\u001b[0m\u001b[0;34m(\u001b[0m\u001b[0mend_step\u001b[0m\u001b[0;34m,\u001b[0m \u001b[0mlogs\u001b[0m\u001b[0;34m)\u001b[0m\u001b[0;34m\u001b[0m\u001b[0;34m\u001b[0m\u001b[0m\n\u001b[0m\u001b[1;32m   1390\u001b[0m               \u001b[0;32mif\u001b[0m \u001b[0mself\u001b[0m\u001b[0;34m.\u001b[0m\u001b[0mstop_training\u001b[0m\u001b[0;34m:\u001b[0m\u001b[0;34m\u001b[0m\u001b[0;34m\u001b[0m\u001b[0m\n\u001b[1;32m   1391\u001b[0m                 \u001b[0;32mbreak\u001b[0m\u001b[0;34m\u001b[0m\u001b[0;34m\u001b[0m\u001b[0m\n",
            "\u001b[0;32m/usr/local/lib/python3.7/dist-packages/keras/callbacks.py\u001b[0m in \u001b[0;36mon_train_batch_end\u001b[0;34m(self, batch, logs)\u001b[0m\n\u001b[1;32m    436\u001b[0m     \"\"\"\n\u001b[1;32m    437\u001b[0m     \u001b[0;32mif\u001b[0m \u001b[0mself\u001b[0m\u001b[0;34m.\u001b[0m\u001b[0m_should_call_train_batch_hooks\u001b[0m\u001b[0;34m:\u001b[0m\u001b[0;34m\u001b[0m\u001b[0;34m\u001b[0m\u001b[0m\n\u001b[0;32m--> 438\u001b[0;31m       \u001b[0mself\u001b[0m\u001b[0;34m.\u001b[0m\u001b[0m_call_batch_hook\u001b[0m\u001b[0;34m(\u001b[0m\u001b[0mModeKeys\u001b[0m\u001b[0;34m.\u001b[0m\u001b[0mTRAIN\u001b[0m\u001b[0;34m,\u001b[0m \u001b[0;34m'end'\u001b[0m\u001b[0;34m,\u001b[0m \u001b[0mbatch\u001b[0m\u001b[0;34m,\u001b[0m \u001b[0mlogs\u001b[0m\u001b[0;34m=\u001b[0m\u001b[0mlogs\u001b[0m\u001b[0;34m)\u001b[0m\u001b[0;34m\u001b[0m\u001b[0;34m\u001b[0m\u001b[0m\n\u001b[0m\u001b[1;32m    439\u001b[0m \u001b[0;34m\u001b[0m\u001b[0m\n\u001b[1;32m    440\u001b[0m   \u001b[0;32mdef\u001b[0m \u001b[0mon_test_batch_begin\u001b[0m\u001b[0;34m(\u001b[0m\u001b[0mself\u001b[0m\u001b[0;34m,\u001b[0m \u001b[0mbatch\u001b[0m\u001b[0;34m,\u001b[0m \u001b[0mlogs\u001b[0m\u001b[0;34m=\u001b[0m\u001b[0;32mNone\u001b[0m\u001b[0;34m)\u001b[0m\u001b[0;34m:\u001b[0m\u001b[0;34m\u001b[0m\u001b[0;34m\u001b[0m\u001b[0m\n",
            "\u001b[0;32m/usr/local/lib/python3.7/dist-packages/keras/callbacks.py\u001b[0m in \u001b[0;36m_call_batch_hook\u001b[0;34m(self, mode, hook, batch, logs)\u001b[0m\n\u001b[1;32m    295\u001b[0m       \u001b[0mself\u001b[0m\u001b[0;34m.\u001b[0m\u001b[0m_call_batch_begin_hook\u001b[0m\u001b[0;34m(\u001b[0m\u001b[0mmode\u001b[0m\u001b[0;34m,\u001b[0m \u001b[0mbatch\u001b[0m\u001b[0;34m,\u001b[0m \u001b[0mlogs\u001b[0m\u001b[0;34m)\u001b[0m\u001b[0;34m\u001b[0m\u001b[0;34m\u001b[0m\u001b[0m\n\u001b[1;32m    296\u001b[0m     \u001b[0;32melif\u001b[0m \u001b[0mhook\u001b[0m \u001b[0;34m==\u001b[0m \u001b[0;34m'end'\u001b[0m\u001b[0;34m:\u001b[0m\u001b[0;34m\u001b[0m\u001b[0;34m\u001b[0m\u001b[0m\n\u001b[0;32m--> 297\u001b[0;31m       \u001b[0mself\u001b[0m\u001b[0;34m.\u001b[0m\u001b[0m_call_batch_end_hook\u001b[0m\u001b[0;34m(\u001b[0m\u001b[0mmode\u001b[0m\u001b[0;34m,\u001b[0m \u001b[0mbatch\u001b[0m\u001b[0;34m,\u001b[0m \u001b[0mlogs\u001b[0m\u001b[0;34m)\u001b[0m\u001b[0;34m\u001b[0m\u001b[0;34m\u001b[0m\u001b[0m\n\u001b[0m\u001b[1;32m    298\u001b[0m     \u001b[0;32melse\u001b[0m\u001b[0;34m:\u001b[0m\u001b[0;34m\u001b[0m\u001b[0;34m\u001b[0m\u001b[0m\n\u001b[1;32m    299\u001b[0m       raise ValueError(\n",
            "\u001b[0;32m/usr/local/lib/python3.7/dist-packages/keras/callbacks.py\u001b[0m in \u001b[0;36m_call_batch_end_hook\u001b[0;34m(self, mode, batch, logs)\u001b[0m\n\u001b[1;32m    316\u001b[0m       \u001b[0mself\u001b[0m\u001b[0;34m.\u001b[0m\u001b[0m_batch_times\u001b[0m\u001b[0;34m.\u001b[0m\u001b[0mappend\u001b[0m\u001b[0;34m(\u001b[0m\u001b[0mbatch_time\u001b[0m\u001b[0;34m)\u001b[0m\u001b[0;34m\u001b[0m\u001b[0;34m\u001b[0m\u001b[0m\n\u001b[1;32m    317\u001b[0m \u001b[0;34m\u001b[0m\u001b[0m\n\u001b[0;32m--> 318\u001b[0;31m     \u001b[0mself\u001b[0m\u001b[0;34m.\u001b[0m\u001b[0m_call_batch_hook_helper\u001b[0m\u001b[0;34m(\u001b[0m\u001b[0mhook_name\u001b[0m\u001b[0;34m,\u001b[0m \u001b[0mbatch\u001b[0m\u001b[0;34m,\u001b[0m \u001b[0mlogs\u001b[0m\u001b[0;34m)\u001b[0m\u001b[0;34m\u001b[0m\u001b[0;34m\u001b[0m\u001b[0m\n\u001b[0m\u001b[1;32m    319\u001b[0m \u001b[0;34m\u001b[0m\u001b[0m\n\u001b[1;32m    320\u001b[0m     \u001b[0;32mif\u001b[0m \u001b[0mlen\u001b[0m\u001b[0;34m(\u001b[0m\u001b[0mself\u001b[0m\u001b[0;34m.\u001b[0m\u001b[0m_batch_times\u001b[0m\u001b[0;34m)\u001b[0m \u001b[0;34m>=\u001b[0m \u001b[0mself\u001b[0m\u001b[0;34m.\u001b[0m\u001b[0m_num_batches_for_timing_check\u001b[0m\u001b[0;34m:\u001b[0m\u001b[0;34m\u001b[0m\u001b[0;34m\u001b[0m\u001b[0m\n",
            "\u001b[0;32m/usr/local/lib/python3.7/dist-packages/keras/callbacks.py\u001b[0m in \u001b[0;36m_call_batch_hook_helper\u001b[0;34m(self, hook_name, batch, logs)\u001b[0m\n\u001b[1;32m    354\u001b[0m     \u001b[0;32mfor\u001b[0m \u001b[0mcallback\u001b[0m \u001b[0;32min\u001b[0m \u001b[0mself\u001b[0m\u001b[0;34m.\u001b[0m\u001b[0mcallbacks\u001b[0m\u001b[0;34m:\u001b[0m\u001b[0;34m\u001b[0m\u001b[0;34m\u001b[0m\u001b[0m\n\u001b[1;32m    355\u001b[0m       \u001b[0mhook\u001b[0m \u001b[0;34m=\u001b[0m \u001b[0mgetattr\u001b[0m\u001b[0;34m(\u001b[0m\u001b[0mcallback\u001b[0m\u001b[0;34m,\u001b[0m \u001b[0mhook_name\u001b[0m\u001b[0;34m)\u001b[0m\u001b[0;34m\u001b[0m\u001b[0;34m\u001b[0m\u001b[0m\n\u001b[0;32m--> 356\u001b[0;31m       \u001b[0mhook\u001b[0m\u001b[0;34m(\u001b[0m\u001b[0mbatch\u001b[0m\u001b[0;34m,\u001b[0m \u001b[0mlogs\u001b[0m\u001b[0;34m)\u001b[0m\u001b[0;34m\u001b[0m\u001b[0;34m\u001b[0m\u001b[0m\n\u001b[0m\u001b[1;32m    357\u001b[0m \u001b[0;34m\u001b[0m\u001b[0m\n\u001b[1;32m    358\u001b[0m     \u001b[0;32mif\u001b[0m \u001b[0mself\u001b[0m\u001b[0;34m.\u001b[0m\u001b[0m_check_timing\u001b[0m\u001b[0;34m:\u001b[0m\u001b[0;34m\u001b[0m\u001b[0;34m\u001b[0m\u001b[0m\n",
            "\u001b[0;32m/usr/local/lib/python3.7/dist-packages/keras/callbacks.py\u001b[0m in \u001b[0;36mon_train_batch_end\u001b[0;34m(self, batch, logs)\u001b[0m\n\u001b[1;32m   1032\u001b[0m \u001b[0;34m\u001b[0m\u001b[0m\n\u001b[1;32m   1033\u001b[0m   \u001b[0;32mdef\u001b[0m \u001b[0mon_train_batch_end\u001b[0m\u001b[0;34m(\u001b[0m\u001b[0mself\u001b[0m\u001b[0;34m,\u001b[0m \u001b[0mbatch\u001b[0m\u001b[0;34m,\u001b[0m \u001b[0mlogs\u001b[0m\u001b[0;34m=\u001b[0m\u001b[0;32mNone\u001b[0m\u001b[0;34m)\u001b[0m\u001b[0;34m:\u001b[0m\u001b[0;34m\u001b[0m\u001b[0;34m\u001b[0m\u001b[0m\n\u001b[0;32m-> 1034\u001b[0;31m     \u001b[0mself\u001b[0m\u001b[0;34m.\u001b[0m\u001b[0m_batch_update_progbar\u001b[0m\u001b[0;34m(\u001b[0m\u001b[0mbatch\u001b[0m\u001b[0;34m,\u001b[0m \u001b[0mlogs\u001b[0m\u001b[0;34m)\u001b[0m\u001b[0;34m\u001b[0m\u001b[0;34m\u001b[0m\u001b[0m\n\u001b[0m\u001b[1;32m   1035\u001b[0m \u001b[0;34m\u001b[0m\u001b[0m\n\u001b[1;32m   1036\u001b[0m   \u001b[0;32mdef\u001b[0m \u001b[0mon_test_batch_end\u001b[0m\u001b[0;34m(\u001b[0m\u001b[0mself\u001b[0m\u001b[0;34m,\u001b[0m \u001b[0mbatch\u001b[0m\u001b[0;34m,\u001b[0m \u001b[0mlogs\u001b[0m\u001b[0;34m=\u001b[0m\u001b[0;32mNone\u001b[0m\u001b[0;34m)\u001b[0m\u001b[0;34m:\u001b[0m\u001b[0;34m\u001b[0m\u001b[0;34m\u001b[0m\u001b[0m\n",
            "\u001b[0;32m/usr/local/lib/python3.7/dist-packages/keras/callbacks.py\u001b[0m in \u001b[0;36m_batch_update_progbar\u001b[0;34m(self, batch, logs)\u001b[0m\n\u001b[1;32m   1104\u001b[0m     \u001b[0;32mif\u001b[0m \u001b[0mself\u001b[0m\u001b[0;34m.\u001b[0m\u001b[0mverbose\u001b[0m \u001b[0;34m==\u001b[0m \u001b[0;36m1\u001b[0m\u001b[0;34m:\u001b[0m\u001b[0;34m\u001b[0m\u001b[0;34m\u001b[0m\u001b[0m\n\u001b[1;32m   1105\u001b[0m       \u001b[0;31m# Only block async when verbose = 1.\u001b[0m\u001b[0;34m\u001b[0m\u001b[0;34m\u001b[0m\u001b[0;34m\u001b[0m\u001b[0m\n\u001b[0;32m-> 1106\u001b[0;31m       \u001b[0mlogs\u001b[0m \u001b[0;34m=\u001b[0m \u001b[0mtf_utils\u001b[0m\u001b[0;34m.\u001b[0m\u001b[0msync_to_numpy_or_python_type\u001b[0m\u001b[0;34m(\u001b[0m\u001b[0mlogs\u001b[0m\u001b[0;34m)\u001b[0m\u001b[0;34m\u001b[0m\u001b[0;34m\u001b[0m\u001b[0m\n\u001b[0m\u001b[1;32m   1107\u001b[0m       \u001b[0mself\u001b[0m\u001b[0;34m.\u001b[0m\u001b[0mprogbar\u001b[0m\u001b[0;34m.\u001b[0m\u001b[0mupdate\u001b[0m\u001b[0;34m(\u001b[0m\u001b[0mself\u001b[0m\u001b[0;34m.\u001b[0m\u001b[0mseen\u001b[0m\u001b[0;34m,\u001b[0m \u001b[0mlist\u001b[0m\u001b[0;34m(\u001b[0m\u001b[0mlogs\u001b[0m\u001b[0;34m.\u001b[0m\u001b[0mitems\u001b[0m\u001b[0;34m(\u001b[0m\u001b[0;34m)\u001b[0m\u001b[0;34m)\u001b[0m\u001b[0;34m,\u001b[0m \u001b[0mfinalize\u001b[0m\u001b[0;34m=\u001b[0m\u001b[0;32mFalse\u001b[0m\u001b[0;34m)\u001b[0m\u001b[0;34m\u001b[0m\u001b[0;34m\u001b[0m\u001b[0m\n\u001b[1;32m   1108\u001b[0m \u001b[0;34m\u001b[0m\u001b[0m\n",
            "\u001b[0;32m/usr/local/lib/python3.7/dist-packages/keras/utils/tf_utils.py\u001b[0m in \u001b[0;36msync_to_numpy_or_python_type\u001b[0;34m(tensors)\u001b[0m\n\u001b[1;32m    561\u001b[0m     \u001b[0;32mreturn\u001b[0m \u001b[0mt\u001b[0m\u001b[0;34m.\u001b[0m\u001b[0mitem\u001b[0m\u001b[0;34m(\u001b[0m\u001b[0;34m)\u001b[0m \u001b[0;32mif\u001b[0m \u001b[0mnp\u001b[0m\u001b[0;34m.\u001b[0m\u001b[0mndim\u001b[0m\u001b[0;34m(\u001b[0m\u001b[0mt\u001b[0m\u001b[0;34m)\u001b[0m \u001b[0;34m==\u001b[0m \u001b[0;36m0\u001b[0m \u001b[0;32melse\u001b[0m \u001b[0mt\u001b[0m\u001b[0;34m\u001b[0m\u001b[0;34m\u001b[0m\u001b[0m\n\u001b[1;32m    562\u001b[0m \u001b[0;34m\u001b[0m\u001b[0m\n\u001b[0;32m--> 563\u001b[0;31m   \u001b[0;32mreturn\u001b[0m \u001b[0mtf\u001b[0m\u001b[0;34m.\u001b[0m\u001b[0mnest\u001b[0m\u001b[0;34m.\u001b[0m\u001b[0mmap_structure\u001b[0m\u001b[0;34m(\u001b[0m\u001b[0m_to_single_numpy_or_python_type\u001b[0m\u001b[0;34m,\u001b[0m \u001b[0mtensors\u001b[0m\u001b[0;34m)\u001b[0m\u001b[0;34m\u001b[0m\u001b[0;34m\u001b[0m\u001b[0m\n\u001b[0m\u001b[1;32m    564\u001b[0m \u001b[0;34m\u001b[0m\u001b[0m\n\u001b[1;32m    565\u001b[0m \u001b[0;34m\u001b[0m\u001b[0m\n",
            "\u001b[0;32m/usr/local/lib/python3.7/dist-packages/tensorflow/python/util/nest.py\u001b[0m in \u001b[0;36mmap_structure\u001b[0;34m(func, *structure, **kwargs)\u001b[0m\n\u001b[1;32m    912\u001b[0m \u001b[0;34m\u001b[0m\u001b[0m\n\u001b[1;32m    913\u001b[0m   return pack_sequence_as(\n\u001b[0;32m--> 914\u001b[0;31m       \u001b[0mstructure\u001b[0m\u001b[0;34m[\u001b[0m\u001b[0;36m0\u001b[0m\u001b[0;34m]\u001b[0m\u001b[0;34m,\u001b[0m \u001b[0;34m[\u001b[0m\u001b[0mfunc\u001b[0m\u001b[0;34m(\u001b[0m\u001b[0;34m*\u001b[0m\u001b[0mx\u001b[0m\u001b[0;34m)\u001b[0m \u001b[0;32mfor\u001b[0m \u001b[0mx\u001b[0m \u001b[0;32min\u001b[0m \u001b[0mentries\u001b[0m\u001b[0;34m]\u001b[0m\u001b[0;34m,\u001b[0m\u001b[0;34m\u001b[0m\u001b[0;34m\u001b[0m\u001b[0m\n\u001b[0m\u001b[1;32m    915\u001b[0m       expand_composites=expand_composites)\n\u001b[1;32m    916\u001b[0m \u001b[0;34m\u001b[0m\u001b[0m\n",
            "\u001b[0;32m/usr/local/lib/python3.7/dist-packages/tensorflow/python/util/nest.py\u001b[0m in \u001b[0;36m<listcomp>\u001b[0;34m(.0)\u001b[0m\n\u001b[1;32m    912\u001b[0m \u001b[0;34m\u001b[0m\u001b[0m\n\u001b[1;32m    913\u001b[0m   return pack_sequence_as(\n\u001b[0;32m--> 914\u001b[0;31m       \u001b[0mstructure\u001b[0m\u001b[0;34m[\u001b[0m\u001b[0;36m0\u001b[0m\u001b[0;34m]\u001b[0m\u001b[0;34m,\u001b[0m \u001b[0;34m[\u001b[0m\u001b[0mfunc\u001b[0m\u001b[0;34m(\u001b[0m\u001b[0;34m*\u001b[0m\u001b[0mx\u001b[0m\u001b[0;34m)\u001b[0m \u001b[0;32mfor\u001b[0m \u001b[0mx\u001b[0m \u001b[0;32min\u001b[0m \u001b[0mentries\u001b[0m\u001b[0;34m]\u001b[0m\u001b[0;34m,\u001b[0m\u001b[0;34m\u001b[0m\u001b[0;34m\u001b[0m\u001b[0m\n\u001b[0m\u001b[1;32m    915\u001b[0m       expand_composites=expand_composites)\n\u001b[1;32m    916\u001b[0m \u001b[0;34m\u001b[0m\u001b[0m\n",
            "\u001b[0;32m/usr/local/lib/python3.7/dist-packages/keras/utils/tf_utils.py\u001b[0m in \u001b[0;36m_to_single_numpy_or_python_type\u001b[0;34m(t)\u001b[0m\n\u001b[1;32m    555\u001b[0m     \u001b[0;31m# Don't turn ragged or sparse tensors to NumPy.\u001b[0m\u001b[0;34m\u001b[0m\u001b[0;34m\u001b[0m\u001b[0;34m\u001b[0m\u001b[0m\n\u001b[1;32m    556\u001b[0m     \u001b[0;32mif\u001b[0m \u001b[0misinstance\u001b[0m\u001b[0;34m(\u001b[0m\u001b[0mt\u001b[0m\u001b[0;34m,\u001b[0m \u001b[0mtf\u001b[0m\u001b[0;34m.\u001b[0m\u001b[0mTensor\u001b[0m\u001b[0;34m)\u001b[0m\u001b[0;34m:\u001b[0m\u001b[0;34m\u001b[0m\u001b[0;34m\u001b[0m\u001b[0m\n\u001b[0;32m--> 557\u001b[0;31m       \u001b[0mt\u001b[0m \u001b[0;34m=\u001b[0m \u001b[0mt\u001b[0m\u001b[0;34m.\u001b[0m\u001b[0mnumpy\u001b[0m\u001b[0;34m(\u001b[0m\u001b[0;34m)\u001b[0m\u001b[0;34m\u001b[0m\u001b[0;34m\u001b[0m\u001b[0m\n\u001b[0m\u001b[1;32m    558\u001b[0m     \u001b[0;31m# Strings, ragged and sparse tensors don't have .item(). Return them as-is.\u001b[0m\u001b[0;34m\u001b[0m\u001b[0;34m\u001b[0m\u001b[0;34m\u001b[0m\u001b[0m\n\u001b[1;32m    559\u001b[0m     \u001b[0;32mif\u001b[0m \u001b[0;32mnot\u001b[0m \u001b[0misinstance\u001b[0m\u001b[0;34m(\u001b[0m\u001b[0mt\u001b[0m\u001b[0;34m,\u001b[0m \u001b[0;34m(\u001b[0m\u001b[0mnp\u001b[0m\u001b[0;34m.\u001b[0m\u001b[0mndarray\u001b[0m\u001b[0;34m,\u001b[0m \u001b[0mnp\u001b[0m\u001b[0;34m.\u001b[0m\u001b[0mgeneric\u001b[0m\u001b[0;34m)\u001b[0m\u001b[0;34m)\u001b[0m\u001b[0;34m:\u001b[0m\u001b[0;34m\u001b[0m\u001b[0;34m\u001b[0m\u001b[0m\n",
            "\u001b[0;32m/usr/local/lib/python3.7/dist-packages/tensorflow/python/framework/ops.py\u001b[0m in \u001b[0;36mnumpy\u001b[0;34m(self)\u001b[0m\n\u001b[1;32m   1221\u001b[0m     \"\"\"\n\u001b[1;32m   1222\u001b[0m     \u001b[0;31m# TODO(slebedev): Consider avoiding a copy for non-CPU or remote tensors.\u001b[0m\u001b[0;34m\u001b[0m\u001b[0;34m\u001b[0m\u001b[0;34m\u001b[0m\u001b[0m\n\u001b[0;32m-> 1223\u001b[0;31m     \u001b[0mmaybe_arr\u001b[0m \u001b[0;34m=\u001b[0m \u001b[0mself\u001b[0m\u001b[0;34m.\u001b[0m\u001b[0m_numpy\u001b[0m\u001b[0;34m(\u001b[0m\u001b[0;34m)\u001b[0m  \u001b[0;31m# pylint: disable=protected-access\u001b[0m\u001b[0;34m\u001b[0m\u001b[0;34m\u001b[0m\u001b[0m\n\u001b[0m\u001b[1;32m   1224\u001b[0m     \u001b[0;32mreturn\u001b[0m \u001b[0mmaybe_arr\u001b[0m\u001b[0;34m.\u001b[0m\u001b[0mcopy\u001b[0m\u001b[0;34m(\u001b[0m\u001b[0;34m)\u001b[0m \u001b[0;32mif\u001b[0m \u001b[0misinstance\u001b[0m\u001b[0;34m(\u001b[0m\u001b[0mmaybe_arr\u001b[0m\u001b[0;34m,\u001b[0m \u001b[0mnp\u001b[0m\u001b[0;34m.\u001b[0m\u001b[0mndarray\u001b[0m\u001b[0;34m)\u001b[0m \u001b[0;32melse\u001b[0m \u001b[0mmaybe_arr\u001b[0m\u001b[0;34m\u001b[0m\u001b[0;34m\u001b[0m\u001b[0m\n\u001b[1;32m   1225\u001b[0m \u001b[0;34m\u001b[0m\u001b[0m\n",
            "\u001b[0;32m/usr/local/lib/python3.7/dist-packages/tensorflow/python/framework/ops.py\u001b[0m in \u001b[0;36m_numpy\u001b[0;34m(self)\u001b[0m\n\u001b[1;32m   1187\u001b[0m   \u001b[0;32mdef\u001b[0m \u001b[0m_numpy\u001b[0m\u001b[0;34m(\u001b[0m\u001b[0mself\u001b[0m\u001b[0;34m)\u001b[0m\u001b[0;34m:\u001b[0m\u001b[0;34m\u001b[0m\u001b[0;34m\u001b[0m\u001b[0m\n\u001b[1;32m   1188\u001b[0m     \u001b[0;32mtry\u001b[0m\u001b[0;34m:\u001b[0m\u001b[0;34m\u001b[0m\u001b[0;34m\u001b[0m\u001b[0m\n\u001b[0;32m-> 1189\u001b[0;31m       \u001b[0;32mreturn\u001b[0m \u001b[0mself\u001b[0m\u001b[0;34m.\u001b[0m\u001b[0m_numpy_internal\u001b[0m\u001b[0;34m(\u001b[0m\u001b[0;34m)\u001b[0m\u001b[0;34m\u001b[0m\u001b[0;34m\u001b[0m\u001b[0m\n\u001b[0m\u001b[1;32m   1190\u001b[0m     \u001b[0;32mexcept\u001b[0m \u001b[0mcore\u001b[0m\u001b[0;34m.\u001b[0m\u001b[0m_NotOkStatusException\u001b[0m \u001b[0;32mas\u001b[0m \u001b[0me\u001b[0m\u001b[0;34m:\u001b[0m  \u001b[0;31m# pylint: disable=protected-access\u001b[0m\u001b[0;34m\u001b[0m\u001b[0;34m\u001b[0m\u001b[0m\n\u001b[1;32m   1191\u001b[0m       \u001b[0;32mraise\u001b[0m \u001b[0mcore\u001b[0m\u001b[0;34m.\u001b[0m\u001b[0m_status_to_exception\u001b[0m\u001b[0;34m(\u001b[0m\u001b[0me\u001b[0m\u001b[0;34m)\u001b[0m \u001b[0;32mfrom\u001b[0m \u001b[0;32mNone\u001b[0m  \u001b[0;31m# pylint: disable=protected-access\u001b[0m\u001b[0;34m\u001b[0m\u001b[0;34m\u001b[0m\u001b[0m\n",
            "\u001b[0;31mKeyboardInterrupt\u001b[0m: "
          ]
        }
      ],
      "source": [
        "y = np.array(op(m[:,3]))\n",
        "h = model.fit([con,qe],y,epochs=5,batch_size=b_size,validation_data=([val_con[:4800],val_qe[:4800]],y1[:4800]))"
      ],
      "id": "d97750ab-17b1-4b8d-b291-62fbd806a1c2"
    },
    {
      "cell_type": "code",
      "execution_count": null,
      "metadata": {
        "colab": {
          "base_uri": "https://localhost:8080/",
          "height": 295
        },
        "id": "10c29910-0fe4-4eec-bc94-f5338df193c9",
        "outputId": "88b7cab2-428e-4ae7-c33a-4f7d03b6e553"
      },
      "outputs": [
        {
          "data": {
            "image/png": "[encoded data removed]",
            "text/plain": [
              "<Figure size 432x288 with 1 Axes>"
            ]
          },
          "metadata": {},
          "output_type": "display_data"
        }
      ],
      "source": [
        "import matplotlib.pyplot as plt\n",
        "plt.xlabel('epoch')\n",
        "plt.ylabel('acc.')\n",
        "plt.title('Plot of accuracy')\n",
        "x = range(0,5)\n",
        "y1 = h.history['accuracy']\n",
        "y2 = h.history['val_accuracy']\n",
        "plt.plot(x,y1)\n",
        "plt.plot(x,y2)\n",
        "plt.savefig('acc_plot.png')"
      ],
      "id": "10c29910-0fe4-4eec-bc94-f5338df193c9"
    },
    {
      "cell_type": "code",
      "execution_count": null,
      "metadata": {
        "colab": {
          "base_uri": "https://localhost:8080/",
          "height": 295
        },
        "id": "38fdcd76",
        "outputId": "c644d7ee-f219-4694-fd1b-b48137d44d22"
      },
      "outputs": [
        {
          "data": {
            "image/png": "[encoded data removed]",
            "text/plain": [
              "<Figure size 432x288 with 1 Axes>"
            ]
          },
          "metadata": {},
          "output_type": "display_data"
        }
      ],
      "source": [
        "import matplotlib.pyplot as plt\n",
        "plt.xlabel('epoch')\n",
        "plt.ylabel('lose')\n",
        "plt.title('Plot of loss')\n",
        "x = range(0,5)\n",
        "y1 = h.history['loss']\n",
        "y2 = h.history['val_loss']\n",
        "plt.plot(x,y1)\n",
        "plt.plot(x,y2)\n",
        "plt.savefig('loss_plot.png')"
      ],
      "id": "38fdcd76"
    },
    {
      "cell_type": "code",
      "execution_count": null,
      "metadata": {
        "id": "f2ec685a"
      },
      "outputs": [],
      "source": [
        "import pickle\n",
        "pickle.dump(h.history,open(\"history_1\",'wb'))"
      ],
      "id": "f2ec685a"
    },
    {
      "cell_type": "code",
      "execution_count": null,
      "metadata": {
        "id": "defca490-1c11-4d44-80ee-c5b0b4c8b923"
      },
      "outputs": [],
      "source": [
        "model.save_weights('model_with_bidef_attention_p'+str(max_len_context)+'_q'+str(max_len_question))"
      ],
      "id": "defca490-1c11-4d44-80ee-c5b0b4c8b923"
    },
    {
      "cell_type": "code",
      "execution_count": null,
      "metadata": {
        "colab": {
          "base_uri": "https://localhost:8080/",
          "height": 353
        },
        "id": "6797f7c3",
        "outputId": "22c2c703-5b18-4aff-87a5-a693d735b333"
      },
      "outputs": [
        {
          "ename": "TypeError",
          "evalue": "ignored",
          "output_type": "error",
          "traceback": [
            "\u001b[0;31m---------------------------------------------------------------------------\u001b[0m",
            "\u001b[0;31mTypeError\u001b[0m                                 Traceback (most recent call last)",
            "\u001b[0;32m<ipython-input-34-65d1a9b3b181>\u001b[0m in \u001b[0;36m<module>\u001b[0;34m()\u001b[0m\n\u001b[0;32m----> 1\u001b[0;31m \u001b[0mmodel\u001b[0m\u001b[0;34m.\u001b[0m\u001b[0msave\u001b[0m\u001b[0;34m(\u001b[0m\u001b[0;34m'model_40.h5'\u001b[0m\u001b[0;34m)\u001b[0m\u001b[0;34m\u001b[0m\u001b[0;34m\u001b[0m\u001b[0m\n\u001b[0m",
            "\u001b[0;32m/usr/local/lib/python3.7/dist-packages/keras/utils/traceback_utils.py\u001b[0m in \u001b[0;36merror_handler\u001b[0;34m(*args, **kwargs)\u001b[0m\n\u001b[1;32m     65\u001b[0m     \u001b[0;32mexcept\u001b[0m \u001b[0mException\u001b[0m \u001b[0;32mas\u001b[0m \u001b[0me\u001b[0m\u001b[0;34m:\u001b[0m  \u001b[0;31m# pylint: disable=broad-except\u001b[0m\u001b[0;34m\u001b[0m\u001b[0;34m\u001b[0m\u001b[0m\n\u001b[1;32m     66\u001b[0m       \u001b[0mfiltered_tb\u001b[0m \u001b[0;34m=\u001b[0m \u001b[0m_process_traceback_frames\u001b[0m\u001b[0;34m(\u001b[0m\u001b[0me\u001b[0m\u001b[0;34m.\u001b[0m\u001b[0m__traceback__\u001b[0m\u001b[0;34m)\u001b[0m\u001b[0;34m\u001b[0m\u001b[0;34m\u001b[0m\u001b[0m\n\u001b[0;32m---> 67\u001b[0;31m       \u001b[0;32mraise\u001b[0m \u001b[0me\u001b[0m\u001b[0;34m.\u001b[0m\u001b[0mwith_traceback\u001b[0m\u001b[0;34m(\u001b[0m\u001b[0mfiltered_tb\u001b[0m\u001b[0;34m)\u001b[0m \u001b[0;32mfrom\u001b[0m \u001b[0;32mNone\u001b[0m\u001b[0;34m\u001b[0m\u001b[0;34m\u001b[0m\u001b[0m\n\u001b[0m\u001b[1;32m     68\u001b[0m     \u001b[0;32mfinally\u001b[0m\u001b[0;34m:\u001b[0m\u001b[0;34m\u001b[0m\u001b[0;34m\u001b[0m\u001b[0m\n\u001b[1;32m     69\u001b[0m       \u001b[0;32mdel\u001b[0m \u001b[0mfiltered_tb\u001b[0m\u001b[0;34m\u001b[0m\u001b[0;34m\u001b[0m\u001b[0m\n",
            "\u001b[0;32m/usr/local/lib/python3.7/dist-packages/keras/engine/node.py\u001b[0m in \u001b[0;36mserialize\u001b[0;34m(self, make_node_key, node_conversion_map)\u001b[0m\n\u001b[1;32m    205\u001b[0m                       \u001b[0;34m' was passed non-JSON-serializable arguments. '\u001b[0m \u001b[0;34m+\u001b[0m\u001b[0;34m\u001b[0m\u001b[0;34m\u001b[0m\u001b[0m\n\u001b[1;32m    206\u001b[0m                       \u001b[0;34m'Arguments had types: '\u001b[0m \u001b[0;34m+\u001b[0m\u001b[0;34m\u001b[0m\u001b[0;34m\u001b[0m\u001b[0m\n\u001b[0;32m--> 207\u001b[0;31m                       \u001b[0mstr\u001b[0m\u001b[0;34m(\u001b[0m\u001b[0mkwarg_types\u001b[0m\u001b[0;34m)\u001b[0m \u001b[0;34m+\u001b[0m \u001b[0;34m'. They cannot be serialized out '\u001b[0m\u001b[0;34m\u001b[0m\u001b[0;34m\u001b[0m\u001b[0m\n\u001b[0m\u001b[1;32m    208\u001b[0m                       'when saving the model.')\n\u001b[1;32m    209\u001b[0m \u001b[0;34m\u001b[0m\u001b[0m\n",
            "\u001b[0;31mTypeError\u001b[0m: Layer tf.math.multiply_1 was passed non-JSON-serializable arguments. Arguments had types: {'y': <class 'tensorflow.python.ops.resource_variable_ops.ResourceVariable'>, 'name': <class 'NoneType'>}. They cannot be serialized out when saving the model."
          ]
        }
      ],
      "source": [
        "model.save('model_40.h5')"
      ],
      "id": "6797f7c3"
    },
    {
      "cell_type": "markdown",
      "metadata": {
        "id": "04313af7-845d-4842-a1ca-dda40d542e14"
      },
      "source": [
        "# Performance of Model"
      ],
      "id": "04313af7-845d-4842-a1ca-dda40d542e14"
    },
    {
      "cell_type": "code",
      "execution_count": null,
      "metadata": {
        "id": "25a3b0fa-faf6-4ec8-87ec-105e2aa4253d"
      },
      "outputs": [],
      "source": [
        "f = open('./drive/MyDrive/data/dev-v2.0.json','r')\n",
        "test_data = json.load(f)"
      ],
      "id": "25a3b0fa-faf6-4ec8-87ec-105e2aa4253d"
    },
    {
      "cell_type": "code",
      "execution_count": null,
      "metadata": {
        "colab": {
          "base_uri": "https://localhost:8080/"
        },
        "id": "b3eddf41-840f-476a-81d7-edd0518cde75",
        "outputId": "c0eaf708-837a-45b3-c788-d162a09aa69c"
      },
      "outputs": [
        {
          "name": "stderr",
          "output_type": "stream",
          "text": [
            "Preprocessing: 100%|██████████| 35/35 [00:07<00:00,  4.46it/s]"
          ]
        },
        {
          "name": "stdout",
          "output_type": "stream",
          "text": [
            "Number Total examples: 4820\n"
          ]
        },
        {
          "name": "stderr",
          "output_type": "stream",
          "text": [
            "\n"
          ]
        }
      ],
      "source": [
        "test_exmpl,test_max_len_context,test_max_len_question = preprocessing(test_data)"
      ],
      "id": "b3eddf41-840f-476a-81d7-edd0518cde75"
    },
    {
      "cell_type": "code",
      "execution_count": null,
      "metadata": {
        "colab": {
          "base_uri": "https://localhost:8080/"
        },
        "id": "fdfc7747-461b-4520-b4bf-00aea0206cde",
        "outputId": "33402788-615d-4f59-8294-49c8b6595d63"
      },
      "outputs": [
        {
          "name": "stdout",
          "output_type": "stream",
          "text": [
            "WARNING:tensorflow:Model was constructed with shape (64, 250) for input KerasTensor(type_spec=TensorSpec(shape=(64, 250), dtype=tf.float32, name='input_1'), name='input_1', description=\"created by layer 'input_1'\"), but it was called on an input with incompatible shape (1, 250).\n",
            "WARNING:tensorflow:Model was constructed with shape (64, 30) for input KerasTensor(type_spec=TensorSpec(shape=(64, 30), dtype=tf.float32, name='input_2'), name='input_2', description=\"created by layer 'input_2'\"), but it was called on an input with incompatible shape (1, 30).\n"
          ]
        }
      ],
      "source": [
        "test_m = np.array(test_exmpl[:])\n",
        "test_con = sentences_to_indices(test_m[:,0],word2idx,max_len_context)\n",
        "test_qe = sentences_to_indices(test_m[:,1],word2idx,max_len_question)\n",
        "y1 = np.array(op(test_m[:,3]))\n",
        "prediction = model.predict([test_con,test_qe],batch_size=1)"
      ],
      "id": "fdfc7747-461b-4520-b4bf-00aea0206cde"
    },
    {
      "cell_type": "code",
      "execution_count": null,
      "metadata": {
        "id": "4d46a566-9ebd-4f39-bc94-abb7ae187c29"
      },
      "outputs": [],
      "source": [
        "def smart_span(prediction,con_len):\n",
        "    prediction[:,0,:] = tf.nn.softmax(prediction[:,0,:],axis=1)\n",
        "    prediction[:,1,:] = tf.nn.softmax(prediction[:,1,:],axis=1)\n",
        "\n",
        "    b = prediction.shape[0]\n",
        "    start = np.zeros(b,dtype='int64')\n",
        "    end = np.zeros(b,dtype='int64')\n",
        "    max_prob = np.zeros(b)\n",
        "\n",
        "    for i in range(b):\n",
        "        maxprod = 0\n",
        "        chosen_start = 0\n",
        "        chosen_end = 0\n",
        "\n",
        "        for j in range(con_len[i]-16):\n",
        "            end_sub = prediction[i,1,j:j+16]\n",
        "            end_max_prob = np.amax(end_sub)\n",
        "            end_in = np.argmax(end_sub)\n",
        "\n",
        "            start_prob = prediction[i,0,j]\n",
        "            prod = start_prob*end_max_prob\n",
        "\n",
        "            if prod>maxprod:\n",
        "                maxprod=prod\n",
        "                chosen_start = j\n",
        "                chosen_end = chosen_start + end_in\n",
        "        start[i] = chosen_start\n",
        "        end[i] = chosen_end\n",
        "    return start,end"
      ],
      "id": "4d46a566-9ebd-4f39-bc94-abb7ae187c29"
    },
    {
      "cell_type": "code",
      "execution_count": null,
      "metadata": {
        "id": "71590d81-a76c-4675-90e8-020b2798af76"
      },
      "outputs": [],
      "source": [
        "p1 = prediction[1]\n",
        "#p1 = tf.nn.softmax(p1,0)\n",
        "ans = tf.math.argmax(p1,axis=1)\n",
        "l = ans.numpy()"
      ],
      "id": "71590d81-a76c-4675-90e8-020b2798af76"
    },
    {
      "cell_type": "code",
      "execution_count": null,
      "metadata": {
        "id": "adf9a387-992c-49e3-a633-fc411d9834c1"
      },
      "outputs": [],
      "source": [
        "con_len = []\n",
        "con_text = test_m[:,0]\n",
        "for i in range(con_text.shape[0]):\n",
        "    context_tokens = tokenize(con_text[i])\n",
        "    con_len.append(len(context_tokens))\n",
        "start,end = smart_span(prediction,con_len)"
      ],
      "id": "adf9a387-992c-49e3-a633-fc411d9834c1"
    },
    {
      "cell_type": "code",
      "execution_count": null,
      "metadata": {
        "id": "c005f3dc-76a4-4311-bb4c-9e273c22252c"
      },
      "outputs": [],
      "source": [
        "def normalize_answer(s):\n",
        "    \"\"\"Lower text and remove punctuation, articles and extra whitespace.\"\"\"\n",
        "    def remove_articles(text):\n",
        "        return re.sub(r'\\b(a|an|the)\\b', ' ', text)\n",
        "\n",
        "    def white_space_fix(text):\n",
        "        return ' '.join(text.split())\n",
        "\n",
        "    def remove_punc(text):\n",
        "        exclude = set(string.punctuation)\n",
        "        return ''.join(ch for ch in text if ch not in exclude)\n",
        "\n",
        "    def lower(text):\n",
        "        return text.lower()\n",
        "\n",
        "    return white_space_fix(remove_articles(remove_punc(lower(s))))"
      ],
      "id": "c005f3dc-76a4-4311-bb4c-9e273c22252c"
    },
    {
      "cell_type": "code",
      "execution_count": null,
      "metadata": {
        "id": "34540cea-08d9-42b5-b820-619b85192a94"
      },
      "outputs": [],
      "source": [
        "def f1_score(prediction, ground_truth):\n",
        "    prediction_tokens = normalize_answer(prediction).split()\n",
        "    ground_truth_tokens = normalize_answer(ground_truth).split()\n",
        "    common = Counter(prediction_tokens) & Counter(ground_truth_tokens)\n",
        "    num_same = sum(common.values())\n",
        "    if num_same == 0:\n",
        "        return 0,0,0\n",
        "    precision = 1.0 * num_same / len(prediction_tokens)\n",
        "    recall = 1.0 * num_same / len(ground_truth_tokens)\n",
        "    f1 = (2 * precision * recall) / (precision + recall)\n",
        "    return f1,precision,recall"
      ],
      "id": "34540cea-08d9-42b5-b820-619b85192a94"
    },
    {
      "cell_type": "code",
      "execution_count": null,
      "metadata": {
        "id": "112250e7-84ca-47d1-87e3-c477c19a05c7"
      },
      "outputs": [],
      "source": [
        "def exact_match_score(prediction, ground_truth):\n",
        "    return (normalize_answer(prediction) == normalize_answer(ground_truth))"
      ],
      "id": "112250e7-84ca-47d1-87e3-c477c19a05c7"
    },
    {
      "cell_type": "code",
      "execution_count": null,
      "metadata": {
        "id": "ca31031c-4c82-4b2b-9c8f-91b71cb16ac1"
      },
      "outputs": [],
      "source": [
        "predicted_ans = []\n",
        "for i in range(con_text.shape[0]):\n",
        "    context_tokens = tokenize(con_text[i])\n",
        "    ans=\"\"\n",
        "    for w in context_tokens[start[i]:end[i]+1]:\n",
        "        ans+=w\n",
        "        ans+=' '\n",
        "    predicted_ans.append(ans)\n",
        "predicted_ans = predicted_ans"
      ],
      "id": "ca31031c-4c82-4b2b-9c8f-91b71cb16ac1"
    },
    {
      "cell_type": "code",
      "execution_count": null,
      "metadata": {
        "colab": {
          "base_uri": "https://localhost:8080/"
        },
        "id": "a77b21bb-12fb-4a93-8542-71008aab98a2",
        "outputId": "67891a91-66e8-4125-e08f-071c72f9fdea"
      },
      "outputs": [
        {
          "name": "stdout",
          "output_type": "stream",
          "text": [
            "F1 score: 21.598904497343792\n",
            "EM score: 11.763485477178422\n",
            "Precision score: 21.682572355030896\n",
            "Recall score: 27.193539113345288\n"
          ]
        }
      ],
      "source": [
        "crct_ans = test_m[:,2]\n",
        "f1=0\n",
        "em=0\n",
        "prec=0\n",
        "recall=0\n",
        "for i in range(crct_ans.shape[0]):\n",
        "    t1,t2,t3 = f1_score(predicted_ans[i], crct_ans[i])\n",
        "    f1+=t1\n",
        "    prec+=t2\n",
        "    recall+=t3\n",
        "    if exact_match_score(normalize_answer(predicted_ans[i]), normalize_answer(crct_ans[i])):\n",
        "        em+=1\n",
        "f1 = f1/crct_ans.shape[0]\n",
        "em = em/crct_ans.shape[0]\n",
        "prec=prec/crct_ans.shape[0]\n",
        "recall=recall/crct_ans.shape[0]\n",
        "print(\"F1 score: \"+str(100*f1))\n",
        "print(\"EM score: \"+str(100*em))\n",
        "print(\"Precision score: \"+str(100*prec))\n",
        "print(\"Recall score: \"+str(100*recall))"
      ],
      "id": "a77b21bb-12fb-4a93-8542-71008aab98a2"
    },
    {
      "cell_type": "markdown",
      "metadata": {
        "id": "8843dd80-bf99-4dd8-a539-2f7e41dde5e4"
      },
      "source": [
        "# Test Model"
      ],
      "id": "8843dd80-bf99-4dd8-a539-2f7e41dde5e4"
    },
    {
      "cell_type": "code",
      "execution_count": null,
      "metadata": {
        "id": "f3846508-7d1c-4ac7-a62b-2ae13189bd8f"
      },
      "outputs": [],
      "source": [
        "def sen_2_ind(x,word2idx,max_len):\n",
        "    x_ind = np.zeros((1,max_len))\n",
        "    sentence_words = x.lower().split()\n",
        "    # Initialize j to 0\n",
        "    j = 0\n",
        "     # Loop over the words of sentence_words\n",
        "    for w in sentence_words:\n",
        "        # Set the (i,j)th entry of X_indices to the index of the correct word.\n",
        "        if w in word2idx.keys():\n",
        "            x_ind[0,j] = word2idx[w]\n",
        "        else:\n",
        "            x_ind[0,j] = word2idx[b\"<unk>\"]\n",
        "            # Increment j to j + 1\n",
        "        j += 1\n",
        "    return x_ind\n",
        ""
      ],
      "id": "f3846508-7d1c-4ac7-a62b-2ae13189bd8f"
    },
    {
      "cell_type": "code",
      "execution_count": null,
      "metadata": {
        "id": "cb40fef6-b2dd-4b97-a797-77de7ece40bb"
      },
      "outputs": [],
      "source": [
        "def test_preprocessing(context,question):\n",
        "    context = context.replace(\"''\", '\" ')\n",
        "    context = context.replace(\"``\", '\" ')\n",
        "    context_tokens = tokenize(context)\n",
        "    if len(context_tokens)>250:\n",
        "        print(\"Please enter context of length <=100\")\n",
        "        return\n",
        "\n",
        "    question_tokens = tokenize(question)\n",
        "    if len(question_tokens)>30 or ('why' in question_tokens) or ('how' in question_tokens):\n",
        "        print(\"Please enter a valid question\")\n",
        "    test_ex = []\n",
        "    test_ex.append((' '.join(context_tokens), ' '.join(question_tokens)))\n",
        "    con = sen_2_ind(test_ex[0][0],word2idx,max_len_context)\n",
        "    qe = sen_2_ind(test_ex[0][1],word2idx,max_len_question)\n",
        "    return con,qe\n",
        ""
      ],
      "id": "cb40fef6-b2dd-4b97-a797-77de7ece40bb"
    },
    {
      "cell_type": "code",
      "execution_count": null,
      "metadata": {
        "id": "bad24624-b654-4202-a064-21e499e29479"
      },
      "outputs": [],
      "source": [
        "def col_print(s):\n",
        "    print(\"\\033[34m\"+s+'\\033[0m')"
      ],
      "id": "bad24624-b654-4202-a064-21e499e29479"
    },
    {
      "cell_type": "code",
      "execution_count": null,
      "metadata": {
        "colab": {
          "base_uri": "https://localhost:8080/"
        },
        "id": "66974429-424d-4189-aaa3-ea4bd4408b5c",
        "outputId": "b478ddc4-6366-44e0-e9d8-96148ed53abc"
      },
      "outputs": [
        {
          "name": "stdout",
          "output_type": "stream",
          "text": [
            "\u001b[34mContext:\u001b[0m\n",
            " Prime numbers of this form are known as factorial primes. Other primes where either p + 1 or p − 1 is of a particular shape include the Sophie Germain primes (primes of the form 2p + 1 with p prime), primorial primes, Fermat primes and Mersenne primes, that is, prime numbers that are of the form 2p − 1, where p is an arbitrary prime. The Lucas–Lehmer test is particularly fast for numbers of this form. This is why the largest known prime has almost always been a Mersenne prime since the dawn of electronic computers.\n",
            "\u001b[34mQuestion:\u001b[0m\n",
            "Of what form are Mersenne primes?\n",
            "\u001b[34mPredicted ans:\u001b[0m\n",
            "factorial primes \n"
          ]
        }
      ],
      "source": [
        "con_file = open(\"./drive/MyDrive/data/Context.txt\",\"r\")\n",
        "qe_file = open(\"./drive/MyDrive/data/Question.txt\",\"r\")\n",
        "test_context = con_file.read()\n",
        "test_question = qe_file.read()\n",
        "#actual_ans = \"Robert Boyle\"\n",
        "c,q = test_preprocessing(test_context,test_question)\n",
        "prediction = model.predict([c,q],batch_size=1)\n",
        "\n",
        "con_tokens = tokenize(test_context)\n",
        "con_len.append(len(context_tokens))\n",
        "start,end = smart_span(prediction,con_len)\n",
        "ans=\"\"\n",
        "for w in con_tokens[start[0]:end[0]+1]:\n",
        "    ans+=w\n",
        "    ans+=' '\n",
        "col_print(\"Context:\")\n",
        "print(test_context)\n",
        "col_print(\"Question:\")\n",
        "print(test_question)\n",
        "#col_print(\"Correct answer:\")\n",
        "#print(actual_ans)\n",
        "col_print(\"Predicted ans:\")\n",
        "print(ans)"
      ],
      "id": "66974429-424d-4189-aaa3-ea4bd4408b5c"
    },
    {
      "cell_type": "markdown",
      "metadata": {
        "id": "7297b36d-d4b9-4454-975d-d686bccdfb23"
      },
      "source": [
        "# References"
      ],
      "id": "7297b36d-d4b9-4454-975d-d686bccdfb23"
    },
    {
      "cell_type": "markdown",
      "metadata": {
        "id": "f31ac6d5-3159-4479-bba5-de34dff834a4"
      },
      "source": [
        "https://arxiv.org/abs/1611.01603 <br>\n",
        "https://towardsdatascience.com/nlp-building-a-question-answering-model-ed0529a68c54"
      ],
      "id": "f31ac6d5-3159-4479-bba5-de34dff834a4"
    }
  ],
  "metadata": {
    "accelerator": "GPU",
    "colab": {
      "provenance": []
    },
    "kernelspec": {
      "display_name": "Python 3 (ipykernel)",
      "language": "python",
      "name": "python3"
    },
    "language_info": {
      "codemirror_mode": {
        "name": "ipython",
        "version": 3
      },
      "file_extension": ".py",
      "mimetype": "text/x-python",
      "name": "python",
      "nbconvert_exporter": "python",
      "pygments_lexer": "ipython3",
      "version": "3.9.10"
    }
  },
  "nbformat": 4,
  "nbformat_minor": 5
}